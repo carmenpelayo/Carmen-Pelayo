{
  "cells": [
    {
      "cell_type": "markdown",
      "metadata": {
        "id": "view-in-github",
        "colab_type": "text"
      },
      "source": [
        "<a href=\"https://colab.research.google.com/github/carmenpelayo/Location-Recommendation-System-for-ICT-Businesses/blob/main/Datasets_TFG.ipynb\" target=\"_parent\"><img src=\"https://colab.research.google.com/assets/colab-badge.svg\" alt=\"Open In Colab\"/></a>"
      ]
    },
    {
      "cell_type": "code",
      "execution_count": null,
      "metadata": {
        "id": "yqUQEgpbXau0"
      },
      "outputs": [],
      "source": [
        "#Module Imports\n",
        "\n",
        "import pandas as pd\n",
        "from pandas import *\n",
        "from numpy import array\n",
        "# from sklearn.metrics.pairwise import cosine_similarity \n",
        "from sklearn.preprocessing import MinMaxScaler\n",
        "from scipy.spatial import distance\n",
        "import numpy as np\n",
        "import matplotlib.pyplot as plt\n",
        "import geopandas as gpd"
      ]
    },
    {
      "cell_type": "markdown",
      "metadata": {
        "id": "vJoTDj4wXau4"
      },
      "source": [
        "# H2020 Projects DB"
      ]
    },
    {
      "cell_type": "code",
      "execution_count": null,
      "metadata": {
        "id": "U8Z1yZuKXau6"
      },
      "outputs": [],
      "source": [
        "xlsx = pd.ExcelFile('Datasets/ICT_H2020.xlsx')\n",
        "projects = pd.read_excel(xlsx, 'Proyectos')\n",
        "areas = pd.read_excel(xlsx, 'Areas')"
      ]
    },
    {
      "cell_type": "markdown",
      "metadata": {
        "id": "PMFTUXYSXau8"
      },
      "source": [
        "## Data quality validation \n"
      ]
    },
    {
      "cell_type": "markdown",
      "metadata": {
        "id": "a6PZB5f4Xau8"
      },
      "source": [
        "Proof that Investment in ICT and GDP are correlated:\n"
      ]
    },
    {
      "cell_type": "code",
      "execution_count": null,
      "metadata": {
        "id": "V5_XkqP_Xau8",
        "outputId": "e3b75a42-dd52-4be6-8b6b-cc3214b821a9"
      },
      "outputs": [
        {
          "name": "stderr",
          "output_type": "stream",
          "text": [
            "/Users/cpelayofernandez/opt/anaconda3/lib/python3.8/site-packages/pandas/core/frame.py:4379: SettingWithCopyWarning: \n",
            "A value is trying to be set on a copy of a slice from a DataFrame\n",
            "\n",
            "See the caveats in the documentation: https://pandas.pydata.org/pandas-docs/stable/user_guide/indexing.html#returning-a-view-versus-a-copy\n",
            "  return super().replace(\n"
          ]
        },
        {
          "name": "stdout",
          "output_type": "stream",
          "text": [
            "0.93024073408751\n"
          ]
        },
        {
          "data": {
            "image/png": "[encoded data removed]",
            "text/plain": [
              "<Figure size 432x288 with 1 Axes>"
            ]
          },
          "metadata": {
            "needs_background": "light"
          },
          "output_type": "display_data"
        }
      ],
      "source": [
        "# DESI index\n",
        "df_gpd = pd.read_excel('Datasets/GPD_countries.xlsx', sheet_name = 'Resumen')\n",
        "df_gpd = df_gpd[['country','gpd']] # Select relevant columns\n",
        "\n",
        "# ICT Projects\n",
        "df_p = projects[['Country Code', 'EU Contribution (€)']] # Select relevant columns\n",
        "df_p.replace('-',0.0, inplace = True) # Fix non-zero values\n",
        "df_countries = df_p.groupby('Country Code').sum().reset_index() # Group by country\n",
        "df_countries.columns = ['country', 'grants'] # Change column names\n",
        "\n",
        "# Merge dataframes\n",
        "df = pd.merge(df_gpd, df_countries, how = 'inner', on = 'country') # Merge values\n",
        "ax1 = df.plot.scatter(x='gpd',y='grants', c='DarkBlue') # Scatter Plot\n",
        "ax1.set_xlabel(\"GDP (millions €)\")\n",
        "ax1.set_ylabel(\"Investment in ICT (€)\")\n",
        "\n",
        "# Correlation Coefficient\n",
        "correl = df['gpd'].corr(df['grants']) # Correlation computation\n",
        "print(correl) "
      ]
    },
    {
      "cell_type": "markdown",
      "metadata": {
        "id": "T5TNJUP3Xau-"
      },
      "source": [
        "## Data Cleaning"
      ]
    },
    {
      "cell_type": "code",
      "execution_count": null,
      "metadata": {
        "id": "8aLsz_egXau_",
        "outputId": "ed9d1cb4-7340-4842-c7c8-010388a0df00"
      },
      "outputs": [
        {
          "data": {
            "text/html": [
              "<div>\n",
              "<style scoped>\n",
              "    .dataframe tbody tr th:only-of-type {\n",
              "        vertical-align: middle;\n",
              "    }\n",
              "\n",
              "    .dataframe tbody tr th {\n",
              "        vertical-align: top;\n",
              "    }\n",
              "\n",
              "    .dataframe thead th {\n",
              "        text-align: right;\n",
              "    }\n",
              "</style>\n",
              "<table border=\"1\" class=\"dataframe\">\n",
              "  <thead>\n",
              "    <tr style=\"text-align: right;\">\n",
              "      <th></th>\n",
              "      <th>Area</th>\n",
              "      <th>Topic</th>\n",
              "      <th>Descripción</th>\n",
              "    </tr>\n",
              "  </thead>\n",
              "  <tbody>\n",
              "    <tr>\n",
              "      <th>0</th>\n",
              "      <td>AI</td>\n",
              "      <td>DT-ICT-12-2020</td>\n",
              "      <td>AI for the smart hospital of the future</td>\n",
              "    </tr>\n",
              "    <tr>\n",
              "      <th>1</th>\n",
              "      <td>AI</td>\n",
              "      <td>ICT-17-2014</td>\n",
              "      <td>Cracking the language barrier</td>\n",
              "    </tr>\n",
              "    <tr>\n",
              "      <th>2</th>\n",
              "      <td>AI</td>\n",
              "      <td>ICT-22-2014</td>\n",
              "      <td>Multimodal and Natural computer interaction</td>\n",
              "    </tr>\n",
              "    <tr>\n",
              "      <th>3</th>\n",
              "      <td>AI</td>\n",
              "      <td>ICT-26-2018-2020</td>\n",
              "      <td>Artificial Intelligence</td>\n",
              "    </tr>\n",
              "    <tr>\n",
              "      <th>4</th>\n",
              "      <td>AI</td>\n",
              "      <td>ICT-29-2018</td>\n",
              "      <td>A multilingual Next Generation Internet</td>\n",
              "    </tr>\n",
              "  </tbody>\n",
              "</table>\n",
              "</div>"
            ],
            "text/plain": [
              "  Area             Topic                                  Descripción\n",
              "0   AI    DT-ICT-12-2020      AI for the smart hospital of the future\n",
              "1   AI       ICT-17-2014                Cracking the language barrier\n",
              "2   AI       ICT-22-2014  Multimodal and Natural computer interaction\n",
              "3   AI  ICT-26-2018-2020                      Artificial Intelligence\n",
              "4   AI       ICT-29-2018      A multilingual Next Generation Internet"
            ]
          },
          "execution_count": 4,
          "metadata": {},
          "output_type": "execute_result"
        }
      ],
      "source": [
        "#Raw df\n",
        "areas.head(5)"
      ]
    },
    {
      "cell_type": "markdown",
      "metadata": {
        "id": "aR2uot_zXau_"
      },
      "source": [
        "### Cleaning db \"areas\""
      ]
    },
    {
      "cell_type": "code",
      "execution_count": null,
      "metadata": {
        "id": "kXjeDysOXavA"
      },
      "outputs": [],
      "source": [
        "#PROBLEM 1: two different area names for communication: \"Comunicación\" and \"communication\"\n",
        "#PROBLEM 2: some area names are in english and others in spanish\n",
        "#PROBLEM 3: some column names are in english\n",
        "#PROBLEM 4: change \"Topic\" to \"Topic Code\" (col 2 name) to match the same name as in \"projects\" df\n",
        "\n",
        "for i in range(len(areas)):\n",
        "    if areas[\"Area\"].iloc[i] == \"Comunicación\":\n",
        "        areas[\"Area\"].iloc[i] = \"Media & Communication\"\n",
        "    elif areas[\"Area\"].iloc[i] == \"communication\":\n",
        "        areas[\"Area\"].iloc[i] = \"Media & Communication\"\n",
        "    elif areas[\"Area\"].iloc[i] == \"Media\":\n",
        "        areas[\"Area\"].iloc[i] = \"Media & Communication\"\n",
        "    elif areas[\"Area\"].iloc[i] == \"Computación\":\n",
        "        areas[\"Area\"].iloc[i] = \"Computation\"\n",
        "    elif areas[\"Area\"].iloc[i] == \"ciberseguridad\":\n",
        "        areas[\"Area\"].iloc[i] = \"Cybersecurity\"\n",
        "    elif areas[\"Area\"].iloc[i] == \"Robot\":\n",
        "        areas[\"Area\"].iloc[i] = \"Robotics\"\n",
        "    elif areas[\"Area\"].iloc[i] == \"Otros\":\n",
        "        areas[\"Area\"].iloc[i] = \"Other\"\n",
        "    elif areas[\"Area\"].iloc[i] == \"Robot\":\n",
        "        areas[\"Area\"].iloc[i] = \"Robotics\"\n",
        "    elif areas[\"Area\"].iloc[i] == \"Innovación\":\n",
        "        areas[\"Area\"].iloc[i] = \"Innovation\"\n",
        "    elif areas[\"Area\"].iloc[i] == \"Big data\":\n",
        "        areas[\"Area\"].iloc[i] = \"Big Data\"\n",
        "\n",
        "#Clean df\n",
        "areas = areas.rename(columns={\"Topic\": \"Topic Code\", \"Descripción\": \"Description\"})   "
      ]
    },
    {
      "cell_type": "code",
      "execution_count": null,
      "metadata": {
        "id": "Ixhvti7mXavB"
      },
      "outputs": [],
      "source": [
        "#Technoligcal areas (or topics)\n",
        "topics = areas.groupby(by = \"Area\", as_index=False).count()\n",
        "topics = list(topics[\"Area\"])"
      ]
    },
    {
      "cell_type": "markdown",
      "metadata": {
        "id": "E6R5ccT_XavB"
      },
      "source": [
        "### Cleaning df \"projects\""
      ]
    },
    {
      "cell_type": "code",
      "execution_count": null,
      "metadata": {
        "id": "gncrn8XBXavB",
        "outputId": "8cd599f6-b791-4d52-b0ca-62ca648f87ee"
      },
      "outputs": [
        {
          "data": {
            "text/plain": [
              "['Framework Programme',\n",
              " 'Call ID',\n",
              " 'Topic Code',\n",
              " 'Topic Descr',\n",
              " 'Project Nbr',\n",
              " 'CORDIS link',\n",
              " 'Project Acronym',\n",
              " 'Project Title',\n",
              " 'Partner Role',\n",
              " 'Partner Type',\n",
              " 'General PIC',\n",
              " 'Legal Entity VAT',\n",
              " 'Legal Name',\n",
              " 'Legal Entity Type',\n",
              " 'Legal Entity Type Descr',\n",
              " 'City',\n",
              " 'NUTS 3 Code',\n",
              " 'NUTS 3 Name',\n",
              " 'Country Code',\n",
              " 'Country',\n",
              " 'EU Contribution (€)',\n",
              " 'H2020 Net EU Contribution',\n",
              " 'H2020 Total Cost',\n",
              " 'Signature Date',\n",
              " 'Call Deadline  Date',\n",
              " 'Thematic Priority Abbr',\n",
              " 'Thematic Priority Descr',\n",
              " 'SME Flag',\n",
              " 'Project Start Date',\n",
              " 'Project End Date',\n",
              " 'Pillar Abbr',\n",
              " 'Pillar Descr',\n",
              " 'Simplified Type of Action',\n",
              " 'Focus Area']"
            ]
          },
          "execution_count": 7,
          "metadata": {},
          "output_type": "execute_result"
        }
      ],
      "source": [
        "list(projects.columns)"
      ]
    },
    {
      "cell_type": "markdown",
      "metadata": {
        "id": "C_PgsbCpXavC"
      },
      "source": [
        "Meaningless columns -> observed with groupby method that all rows have the same value for those columns (they do not provide any useful information for the study).\n",
        "\n",
        "- Pillar Descr\n",
        "- General PIC\n",
        "- Thematic Priority Abbr\n",
        "- Thematic Priority Descr\n",
        "- Pillar Abbr\n",
        "- Pillar Descr\n",
        "- Focus Area -> most rows do not have a value for this column\n",
        "\n",
        "Therefore, we can eliminate them from the database."
      ]
    },
    {
      "cell_type": "code",
      "execution_count": null,
      "metadata": {
        "id": "7L-rK_3ZXavC"
      },
      "outputs": [],
      "source": [
        "meaningless_cols = ['Pillar Descr', 'General PIC', 'Thematic Priority Abbr', 'Thematic Priority Descr', 'Pillar Abbr', 'Pillar Descr', 'Simplified Type of Action', 'Focus Area']\n",
        "projects.drop(meaningless_cols, axis = 1, inplace = True)"
      ]
    },
    {
      "cell_type": "code",
      "execution_count": null,
      "metadata": {
        "scrolled": true,
        "id": "vM62OzEHXavC"
      },
      "outputs": [],
      "source": [
        "#Getting NUTS2 codes\n",
        "projects['NUTS 2 Code'] = projects['NUTS 3 Code'].str[:4]"
      ]
    },
    {
      "cell_type": "code",
      "execution_count": null,
      "metadata": {
        "id": "SjoAQ70mXavD"
      },
      "outputs": [],
      "source": [
        "#Deleting the project with unspecified region from \"projects\" df\n",
        "idx = projects[projects[\"NUTS 2 Code\"] == \"-\"].index.tolist()[0]\n",
        "projects = projects.drop(idx)"
      ]
    },
    {
      "cell_type": "markdown",
      "metadata": {
        "id": "ZekOX3YiXavD"
      },
      "source": [
        "### Merge of \"projects\" and \"areas\""
      ]
    },
    {
      "cell_type": "code",
      "execution_count": null,
      "metadata": {
        "scrolled": true,
        "id": "lbTSc7cLXavD",
        "outputId": "23d3f12b-6aaa-4d98-d8bb-685cddb9e5b1"
      },
      "outputs": [
        {
          "data": {
            "text/html": [
              "<div>\n",
              "<style scoped>\n",
              "    .dataframe tbody tr th:only-of-type {\n",
              "        vertical-align: middle;\n",
              "    }\n",
              "\n",
              "    .dataframe tbody tr th {\n",
              "        vertical-align: top;\n",
              "    }\n",
              "\n",
              "    .dataframe thead th {\n",
              "        text-align: right;\n",
              "    }\n",
              "</style>\n",
              "<table border=\"1\" class=\"dataframe\">\n",
              "  <thead>\n",
              "    <tr style=\"text-align: right;\">\n",
              "      <th></th>\n",
              "      <th>Framework Programme</th>\n",
              "      <th>Call ID</th>\n",
              "      <th>Topic Code</th>\n",
              "      <th>Topic Descr</th>\n",
              "      <th>Project Nbr</th>\n",
              "      <th>CORDIS link</th>\n",
              "      <th>Project Acronym</th>\n",
              "      <th>Project Title</th>\n",
              "      <th>Partner Role</th>\n",
              "      <th>Partner Type</th>\n",
              "      <th>...</th>\n",
              "      <th>H2020 Net EU Contribution</th>\n",
              "      <th>H2020 Total Cost</th>\n",
              "      <th>Signature Date</th>\n",
              "      <th>Call Deadline  Date</th>\n",
              "      <th>SME Flag</th>\n",
              "      <th>Project Start Date</th>\n",
              "      <th>Project End Date</th>\n",
              "      <th>NUTS 2 Code</th>\n",
              "      <th>Area</th>\n",
              "      <th>Description</th>\n",
              "    </tr>\n",
              "  </thead>\n",
              "  <tbody>\n",
              "    <tr>\n",
              "      <th>0</th>\n",
              "      <td>H2020</td>\n",
              "      <td>ECSEL-2014-1</td>\n",
              "      <td>ECSEL-01-2014</td>\n",
              "      <td>ECSEL Key Applications and Essential Technolog...</td>\n",
              "      <td>661933</td>\n",
              "      <td>http://cordis.europa.eu/project/id/661933</td>\n",
              "      <td>RobustSENSE</td>\n",
              "      <td>Robust and Reliable Environment Sensing and Si...</td>\n",
              "      <td>COORDINATOR</td>\n",
              "      <td>BENEFICIARY</td>\n",
              "      <td>...</td>\n",
              "      <td>335222.0</td>\n",
              "      <td>897410.0</td>\n",
              "      <td>16/06/2015</td>\n",
              "      <td>17/09/2014</td>\n",
              "      <td>No</td>\n",
              "      <td>01/06/2015</td>\n",
              "      <td>31/05/2018</td>\n",
              "      <td>DE11</td>\n",
              "      <td>Other</td>\n",
              "      <td>ECSEL Key Applications and Essential Technolog...</td>\n",
              "    </tr>\n",
              "    <tr>\n",
              "      <th>1</th>\n",
              "      <td>H2020</td>\n",
              "      <td>ECSEL-2014-1</td>\n",
              "      <td>ECSEL-01-2014</td>\n",
              "      <td>ECSEL Key Applications and Essential Technolog...</td>\n",
              "      <td>661933</td>\n",
              "      <td>http://cordis.europa.eu/project/id/661933</td>\n",
              "      <td>RobustSENSE</td>\n",
              "      <td>Robust and Reliable Environment Sensing and Si...</td>\n",
              "      <td>PARTICIPANT</td>\n",
              "      <td>BENEFICIARY</td>\n",
              "      <td>...</td>\n",
              "      <td>126750.0</td>\n",
              "      <td>390000.0</td>\n",
              "      <td>16/06/2015</td>\n",
              "      <td>17/09/2014</td>\n",
              "      <td>No</td>\n",
              "      <td>01/06/2015</td>\n",
              "      <td>31/05/2018</td>\n",
              "      <td>FI1B</td>\n",
              "      <td>Other</td>\n",
              "      <td>ECSEL Key Applications and Essential Technolog...</td>\n",
              "    </tr>\n",
              "    <tr>\n",
              "      <th>2</th>\n",
              "      <td>H2020</td>\n",
              "      <td>ECSEL-2014-1</td>\n",
              "      <td>ECSEL-01-2014</td>\n",
              "      <td>ECSEL Key Applications and Essential Technolog...</td>\n",
              "      <td>661933</td>\n",
              "      <td>http://cordis.europa.eu/project/id/661933</td>\n",
              "      <td>RobustSENSE</td>\n",
              "      <td>Robust and Reliable Environment Sensing and Si...</td>\n",
              "      <td>PARTICIPANT</td>\n",
              "      <td>BENEFICIARY</td>\n",
              "      <td>...</td>\n",
              "      <td>82523.0</td>\n",
              "      <td>336100.0</td>\n",
              "      <td>16/06/2015</td>\n",
              "      <td>17/09/2014</td>\n",
              "      <td>No</td>\n",
              "      <td>01/06/2015</td>\n",
              "      <td>31/05/2018</td>\n",
              "      <td>DE71</td>\n",
              "      <td>Other</td>\n",
              "      <td>ECSEL Key Applications and Essential Technolog...</td>\n",
              "    </tr>\n",
              "    <tr>\n",
              "      <th>3</th>\n",
              "      <td>H2020</td>\n",
              "      <td>ECSEL-2014-1</td>\n",
              "      <td>ECSEL-01-2014</td>\n",
              "      <td>ECSEL Key Applications and Essential Technolog...</td>\n",
              "      <td>661933</td>\n",
              "      <td>http://cordis.europa.eu/project/id/661933</td>\n",
              "      <td>RobustSENSE</td>\n",
              "      <td>Robust and Reliable Environment Sensing and Si...</td>\n",
              "      <td>PARTICIPANT</td>\n",
              "      <td>BENEFICIARY</td>\n",
              "      <td>...</td>\n",
              "      <td>61165.0</td>\n",
              "      <td>188000.0</td>\n",
              "      <td>16/06/2015</td>\n",
              "      <td>17/09/2014</td>\n",
              "      <td>Yes</td>\n",
              "      <td>01/06/2015</td>\n",
              "      <td>31/05/2018</td>\n",
              "      <td>FI1D</td>\n",
              "      <td>Other</td>\n",
              "      <td>ECSEL Key Applications and Essential Technolog...</td>\n",
              "    </tr>\n",
              "    <tr>\n",
              "      <th>4</th>\n",
              "      <td>H2020</td>\n",
              "      <td>ECSEL-2014-1</td>\n",
              "      <td>ECSEL-01-2014</td>\n",
              "      <td>ECSEL Key Applications and Essential Technolog...</td>\n",
              "      <td>661933</td>\n",
              "      <td>http://cordis.europa.eu/project/id/661933</td>\n",
              "      <td>RobustSENSE</td>\n",
              "      <td>Robust and Reliable Environment Sensing and Si...</td>\n",
              "      <td>PARTICIPANT</td>\n",
              "      <td>BENEFICIARY</td>\n",
              "      <td>...</td>\n",
              "      <td>201013.0</td>\n",
              "      <td>618500.0</td>\n",
              "      <td>16/06/2015</td>\n",
              "      <td>17/09/2014</td>\n",
              "      <td>No</td>\n",
              "      <td>01/06/2015</td>\n",
              "      <td>31/05/2018</td>\n",
              "      <td>ES51</td>\n",
              "      <td>Other</td>\n",
              "      <td>ECSEL Key Applications and Essential Technolog...</td>\n",
              "    </tr>\n",
              "  </tbody>\n",
              "</table>\n",
              "<p>5 rows × 30 columns</p>\n",
              "</div>"
            ],
            "text/plain": [
              "  Framework Programme       Call ID     Topic Code  \\\n",
              "0               H2020  ECSEL-2014-1  ECSEL-01-2014   \n",
              "1               H2020  ECSEL-2014-1  ECSEL-01-2014   \n",
              "2               H2020  ECSEL-2014-1  ECSEL-01-2014   \n",
              "3               H2020  ECSEL-2014-1  ECSEL-01-2014   \n",
              "4               H2020  ECSEL-2014-1  ECSEL-01-2014   \n",
              "\n",
              "                                         Topic Descr  Project Nbr  \\\n",
              "0  ECSEL Key Applications and Essential Technolog...       661933   \n",
              "1  ECSEL Key Applications and Essential Technolog...       661933   \n",
              "2  ECSEL Key Applications and Essential Technolog...       661933   \n",
              "3  ECSEL Key Applications and Essential Technolog...       661933   \n",
              "4  ECSEL Key Applications and Essential Technolog...       661933   \n",
              "\n",
              "                                 CORDIS link Project Acronym  \\\n",
              "0  http://cordis.europa.eu/project/id/661933     RobustSENSE   \n",
              "1  http://cordis.europa.eu/project/id/661933     RobustSENSE   \n",
              "2  http://cordis.europa.eu/project/id/661933     RobustSENSE   \n",
              "3  http://cordis.europa.eu/project/id/661933     RobustSENSE   \n",
              "4  http://cordis.europa.eu/project/id/661933     RobustSENSE   \n",
              "\n",
              "                                       Project Title Partner Role  \\\n",
              "0  Robust and Reliable Environment Sensing and Si...  COORDINATOR   \n",
              "1  Robust and Reliable Environment Sensing and Si...  PARTICIPANT   \n",
              "2  Robust and Reliable Environment Sensing and Si...  PARTICIPANT   \n",
              "3  Robust and Reliable Environment Sensing and Si...  PARTICIPANT   \n",
              "4  Robust and Reliable Environment Sensing and Si...  PARTICIPANT   \n",
              "\n",
              "  Partner Type  ... H2020 Net EU Contribution H2020 Total Cost Signature Date  \\\n",
              "0  BENEFICIARY  ...                  335222.0         897410.0     16/06/2015   \n",
              "1  BENEFICIARY  ...                  126750.0         390000.0     16/06/2015   \n",
              "2  BENEFICIARY  ...                   82523.0         336100.0     16/06/2015   \n",
              "3  BENEFICIARY  ...                   61165.0         188000.0     16/06/2015   \n",
              "4  BENEFICIARY  ...                  201013.0         618500.0     16/06/2015   \n",
              "\n",
              "  Call Deadline  Date SME Flag Project Start Date Project End Date  \\\n",
              "0          17/09/2014       No         01/06/2015       31/05/2018   \n",
              "1          17/09/2014       No         01/06/2015       31/05/2018   \n",
              "2          17/09/2014       No         01/06/2015       31/05/2018   \n",
              "3          17/09/2014      Yes         01/06/2015       31/05/2018   \n",
              "4          17/09/2014       No         01/06/2015       31/05/2018   \n",
              "\n",
              "  NUTS 2 Code   Area                                        Description  \n",
              "0        DE11  Other  ECSEL Key Applications and Essential Technolog...  \n",
              "1        FI1B  Other  ECSEL Key Applications and Essential Technolog...  \n",
              "2        DE71  Other  ECSEL Key Applications and Essential Technolog...  \n",
              "3        FI1D  Other  ECSEL Key Applications and Essential Technolog...  \n",
              "4        ES51  Other  ECSEL Key Applications and Essential Technolog...  \n",
              "\n",
              "[5 rows x 30 columns]"
            ]
          },
          "execution_count": 11,
          "metadata": {},
          "output_type": "execute_result"
        }
      ],
      "source": [
        "projects = pd.merge(projects, areas, on = 'Topic Code') # Se añade 'N_Countries' según el acrónimo\n",
        "projects.head(5) #final DB"
      ]
    },
    {
      "cell_type": "markdown",
      "metadata": {
        "id": "I3Re4UouXavD"
      },
      "source": [
        "#### Further cleaning? -> Understanding the data"
      ]
    },
    {
      "cell_type": "markdown",
      "metadata": {
        "id": "igLF8IXTXavE"
      },
      "source": [
        "Some tech area names (\"Other\", \"SME\" and \"Innovation\") do not communicate the market area of their products/services. For this reason, it needs to be checked whether they are significant enough in the database, otherwise they could be dropped. After printing the length of these rows, it can be seen that they are few \"SME\" and \"Innovation\" projects in comparison to the total projects in the DB (576  for \"SME\" and 784 for \"Innovation\", out of 18411 projects in the DB). Therefore, we can drop those projects from the database."
      ]
    },
    {
      "cell_type": "code",
      "execution_count": null,
      "metadata": {
        "id": "howvbpBoXavE",
        "outputId": "6463f92a-a230-43be-a048-77c38ff64215"
      },
      "outputs": [
        {
          "name": "stdout",
          "output_type": "stream",
          "text": [
            "6740 576 784\n"
          ]
        },
        {
          "data": {
            "text/html": [
              "<div>\n",
              "<style scoped>\n",
              "    .dataframe tbody tr th:only-of-type {\n",
              "        vertical-align: middle;\n",
              "    }\n",
              "\n",
              "    .dataframe tbody tr th {\n",
              "        vertical-align: top;\n",
              "    }\n",
              "\n",
              "    .dataframe thead th {\n",
              "        text-align: right;\n",
              "    }\n",
              "</style>\n",
              "<table border=\"1\" class=\"dataframe\">\n",
              "  <thead>\n",
              "    <tr style=\"text-align: right;\">\n",
              "      <th></th>\n",
              "      <th>Framework Programme</th>\n",
              "      <th>Call ID</th>\n",
              "      <th>Topic Code</th>\n",
              "      <th>Topic Descr</th>\n",
              "      <th>Project Nbr</th>\n",
              "      <th>CORDIS link</th>\n",
              "      <th>Project Acronym</th>\n",
              "      <th>Project Title</th>\n",
              "      <th>Partner Role</th>\n",
              "      <th>Partner Type</th>\n",
              "      <th>...</th>\n",
              "      <th>H2020 Net EU Contribution</th>\n",
              "      <th>H2020 Total Cost</th>\n",
              "      <th>Signature Date</th>\n",
              "      <th>Call Deadline  Date</th>\n",
              "      <th>SME Flag</th>\n",
              "      <th>Project Start Date</th>\n",
              "      <th>Project End Date</th>\n",
              "      <th>NUTS 2 Code</th>\n",
              "      <th>Area</th>\n",
              "      <th>Description</th>\n",
              "    </tr>\n",
              "  </thead>\n",
              "  <tbody>\n",
              "    <tr>\n",
              "      <th>0</th>\n",
              "      <td>H2020</td>\n",
              "      <td>ECSEL-2014-1</td>\n",
              "      <td>ECSEL-01-2014</td>\n",
              "      <td>ECSEL Key Applications and Essential Technolog...</td>\n",
              "      <td>661933</td>\n",
              "      <td>http://cordis.europa.eu/project/id/661933</td>\n",
              "      <td>RobustSENSE</td>\n",
              "      <td>Robust and Reliable Environment Sensing and Si...</td>\n",
              "      <td>COORDINATOR</td>\n",
              "      <td>BENEFICIARY</td>\n",
              "      <td>...</td>\n",
              "      <td>335222.0</td>\n",
              "      <td>897410.0</td>\n",
              "      <td>16/06/2015</td>\n",
              "      <td>17/09/2014</td>\n",
              "      <td>No</td>\n",
              "      <td>01/06/2015</td>\n",
              "      <td>31/05/2018</td>\n",
              "      <td>DE11</td>\n",
              "      <td>Other</td>\n",
              "      <td>ECSEL Key Applications and Essential Technolog...</td>\n",
              "    </tr>\n",
              "    <tr>\n",
              "      <th>1</th>\n",
              "      <td>H2020</td>\n",
              "      <td>ECSEL-2014-1</td>\n",
              "      <td>ECSEL-01-2014</td>\n",
              "      <td>ECSEL Key Applications and Essential Technolog...</td>\n",
              "      <td>661933</td>\n",
              "      <td>http://cordis.europa.eu/project/id/661933</td>\n",
              "      <td>RobustSENSE</td>\n",
              "      <td>Robust and Reliable Environment Sensing and Si...</td>\n",
              "      <td>PARTICIPANT</td>\n",
              "      <td>BENEFICIARY</td>\n",
              "      <td>...</td>\n",
              "      <td>126750.0</td>\n",
              "      <td>390000.0</td>\n",
              "      <td>16/06/2015</td>\n",
              "      <td>17/09/2014</td>\n",
              "      <td>No</td>\n",
              "      <td>01/06/2015</td>\n",
              "      <td>31/05/2018</td>\n",
              "      <td>FI1B</td>\n",
              "      <td>Other</td>\n",
              "      <td>ECSEL Key Applications and Essential Technolog...</td>\n",
              "    </tr>\n",
              "    <tr>\n",
              "      <th>2</th>\n",
              "      <td>H2020</td>\n",
              "      <td>ECSEL-2014-1</td>\n",
              "      <td>ECSEL-01-2014</td>\n",
              "      <td>ECSEL Key Applications and Essential Technolog...</td>\n",
              "      <td>661933</td>\n",
              "      <td>http://cordis.europa.eu/project/id/661933</td>\n",
              "      <td>RobustSENSE</td>\n",
              "      <td>Robust and Reliable Environment Sensing and Si...</td>\n",
              "      <td>PARTICIPANT</td>\n",
              "      <td>BENEFICIARY</td>\n",
              "      <td>...</td>\n",
              "      <td>82523.0</td>\n",
              "      <td>336100.0</td>\n",
              "      <td>16/06/2015</td>\n",
              "      <td>17/09/2014</td>\n",
              "      <td>No</td>\n",
              "      <td>01/06/2015</td>\n",
              "      <td>31/05/2018</td>\n",
              "      <td>DE71</td>\n",
              "      <td>Other</td>\n",
              "      <td>ECSEL Key Applications and Essential Technolog...</td>\n",
              "    </tr>\n",
              "    <tr>\n",
              "      <th>3</th>\n",
              "      <td>H2020</td>\n",
              "      <td>ECSEL-2014-1</td>\n",
              "      <td>ECSEL-01-2014</td>\n",
              "      <td>ECSEL Key Applications and Essential Technolog...</td>\n",
              "      <td>661933</td>\n",
              "      <td>http://cordis.europa.eu/project/id/661933</td>\n",
              "      <td>RobustSENSE</td>\n",
              "      <td>Robust and Reliable Environment Sensing and Si...</td>\n",
              "      <td>PARTICIPANT</td>\n",
              "      <td>BENEFICIARY</td>\n",
              "      <td>...</td>\n",
              "      <td>61165.0</td>\n",
              "      <td>188000.0</td>\n",
              "      <td>16/06/2015</td>\n",
              "      <td>17/09/2014</td>\n",
              "      <td>Yes</td>\n",
              "      <td>01/06/2015</td>\n",
              "      <td>31/05/2018</td>\n",
              "      <td>FI1D</td>\n",
              "      <td>Other</td>\n",
              "      <td>ECSEL Key Applications and Essential Technolog...</td>\n",
              "    </tr>\n",
              "    <tr>\n",
              "      <th>4</th>\n",
              "      <td>H2020</td>\n",
              "      <td>ECSEL-2014-1</td>\n",
              "      <td>ECSEL-01-2014</td>\n",
              "      <td>ECSEL Key Applications and Essential Technolog...</td>\n",
              "      <td>661933</td>\n",
              "      <td>http://cordis.europa.eu/project/id/661933</td>\n",
              "      <td>RobustSENSE</td>\n",
              "      <td>Robust and Reliable Environment Sensing and Si...</td>\n",
              "      <td>PARTICIPANT</td>\n",
              "      <td>BENEFICIARY</td>\n",
              "      <td>...</td>\n",
              "      <td>201013.0</td>\n",
              "      <td>618500.0</td>\n",
              "      <td>16/06/2015</td>\n",
              "      <td>17/09/2014</td>\n",
              "      <td>No</td>\n",
              "      <td>01/06/2015</td>\n",
              "      <td>31/05/2018</td>\n",
              "      <td>ES51</td>\n",
              "      <td>Other</td>\n",
              "      <td>ECSEL Key Applications and Essential Technolog...</td>\n",
              "    </tr>\n",
              "  </tbody>\n",
              "</table>\n",
              "<p>5 rows × 30 columns</p>\n",
              "</div>"
            ],
            "text/plain": [
              "  Framework Programme       Call ID     Topic Code  \\\n",
              "0               H2020  ECSEL-2014-1  ECSEL-01-2014   \n",
              "1               H2020  ECSEL-2014-1  ECSEL-01-2014   \n",
              "2               H2020  ECSEL-2014-1  ECSEL-01-2014   \n",
              "3               H2020  ECSEL-2014-1  ECSEL-01-2014   \n",
              "4               H2020  ECSEL-2014-1  ECSEL-01-2014   \n",
              "\n",
              "                                         Topic Descr  Project Nbr  \\\n",
              "0  ECSEL Key Applications and Essential Technolog...       661933   \n",
              "1  ECSEL Key Applications and Essential Technolog...       661933   \n",
              "2  ECSEL Key Applications and Essential Technolog...       661933   \n",
              "3  ECSEL Key Applications and Essential Technolog...       661933   \n",
              "4  ECSEL Key Applications and Essential Technolog...       661933   \n",
              "\n",
              "                                 CORDIS link Project Acronym  \\\n",
              "0  http://cordis.europa.eu/project/id/661933     RobustSENSE   \n",
              "1  http://cordis.europa.eu/project/id/661933     RobustSENSE   \n",
              "2  http://cordis.europa.eu/project/id/661933     RobustSENSE   \n",
              "3  http://cordis.europa.eu/project/id/661933     RobustSENSE   \n",
              "4  http://cordis.europa.eu/project/id/661933     RobustSENSE   \n",
              "\n",
              "                                       Project Title Partner Role  \\\n",
              "0  Robust and Reliable Environment Sensing and Si...  COORDINATOR   \n",
              "1  Robust and Reliable Environment Sensing and Si...  PARTICIPANT   \n",
              "2  Robust and Reliable Environment Sensing and Si...  PARTICIPANT   \n",
              "3  Robust and Reliable Environment Sensing and Si...  PARTICIPANT   \n",
              "4  Robust and Reliable Environment Sensing and Si...  PARTICIPANT   \n",
              "\n",
              "  Partner Type  ... H2020 Net EU Contribution H2020 Total Cost Signature Date  \\\n",
              "0  BENEFICIARY  ...                  335222.0         897410.0     16/06/2015   \n",
              "1  BENEFICIARY  ...                  126750.0         390000.0     16/06/2015   \n",
              "2  BENEFICIARY  ...                   82523.0         336100.0     16/06/2015   \n",
              "3  BENEFICIARY  ...                   61165.0         188000.0     16/06/2015   \n",
              "4  BENEFICIARY  ...                  201013.0         618500.0     16/06/2015   \n",
              "\n",
              "  Call Deadline  Date SME Flag Project Start Date Project End Date  \\\n",
              "0          17/09/2014       No         01/06/2015       31/05/2018   \n",
              "1          17/09/2014       No         01/06/2015       31/05/2018   \n",
              "2          17/09/2014       No         01/06/2015       31/05/2018   \n",
              "3          17/09/2014      Yes         01/06/2015       31/05/2018   \n",
              "4          17/09/2014       No         01/06/2015       31/05/2018   \n",
              "\n",
              "  NUTS 2 Code   Area                                        Description  \n",
              "0        DE11  Other  ECSEL Key Applications and Essential Technolog...  \n",
              "1        FI1B  Other  ECSEL Key Applications and Essential Technolog...  \n",
              "2        DE71  Other  ECSEL Key Applications and Essential Technolog...  \n",
              "3        FI1D  Other  ECSEL Key Applications and Essential Technolog...  \n",
              "4        ES51  Other  ECSEL Key Applications and Essential Technolog...  \n",
              "\n",
              "[5 rows x 30 columns]"
            ]
          },
          "execution_count": 12,
          "metadata": {},
          "output_type": "execute_result"
        }
      ],
      "source": [
        "idx2 = projects[projects[\"Area\"] == \"Other\"].index.to_list()\n",
        "idx3 = projects[projects[\"Area\"] == \"SME\"].index.to_list()\n",
        "idx4 = projects[projects[\"Area\"] == \"Innovation\"].index.to_list()\n",
        "print(len(idx2), len(idx3), len(idx4))\n",
        "\n",
        "idx3.extend(idx4)\n",
        "projects = projects.drop(idx3, axis = 0)\n",
        "projects.head()"
      ]
    },
    {
      "cell_type": "code",
      "execution_count": null,
      "metadata": {
        "id": "xrSEXn8kXavE",
        "outputId": "446c79ae-9ce8-48ef-c1a2-d06b73cfc022"
      },
      "outputs": [
        {
          "name": "stdout",
          "output_type": "stream",
          "text": [
            "17051 225\n"
          ]
        }
      ],
      "source": [
        "#Number of projects and areas\n",
        "length_projects = len(projects)\n",
        "length_areas = len(areas)\n",
        "print(length_projects, length_areas)"
      ]
    },
    {
      "cell_type": "code",
      "execution_count": null,
      "metadata": {
        "id": "kT4CnMuJXavF"
      },
      "outputs": [],
      "source": [
        "#Number of regions per country considered in the study\n",
        "count_reg_count = projects.groupby([\"Country Code\", \"NUTS 2 Code\"], as_index=False).count()\n",
        "countries_count = count_reg_count.groupby(\"Country Code\", as_index=False).count()\n",
        "n_reg = {countries_count[\"Country Code\"].iloc[i]:countries_count[\"NUTS 2 Code\"].iloc[i] for i in range(len(countries_count))}"
      ]
    },
    {
      "cell_type": "markdown",
      "metadata": {
        "id": "blqMjOOWXavF"
      },
      "source": [
        "## Data Analysis"
      ]
    },
    {
      "cell_type": "markdown",
      "metadata": {
        "id": "y2Mp-6_5XavF"
      },
      "source": [
        "### DIMENSION 1: Tech Areas"
      ]
    },
    {
      "cell_type": "code",
      "execution_count": null,
      "metadata": {
        "id": "Ozwpf6ZAXavG",
        "outputId": "3e8e3d5f-5c69-4476-cc75-da71de279c43"
      },
      "outputs": [
        {
          "data": {
            "text/plain": [
              "{'AI': 750,\n",
              " 'Big Data': 1404,\n",
              " 'Computation': 1099,\n",
              " 'Cybersecurity': 652,\n",
              " 'Internet': 730,\n",
              " 'IoT': 1178,\n",
              " 'Media & Communication': 2725,\n",
              " 'Other': 6740,\n",
              " 'Robotics': 1249,\n",
              " 'Software': 524}"
            ]
          },
          "execution_count": 15,
          "metadata": {},
          "output_type": "execute_result"
        }
      ],
      "source": [
        "#Total projects per TECH area\n",
        "tech_areas = projects.groupby(by = \"Area\").count().reset_index() #counts the number of times each market tech area appears in the dataframe\n",
        "total_per_area = {}\n",
        "for i in range(len(tech_areas)):\n",
        "    total_per_area[tech_areas[\"Area\"].iloc[i]] = tech_areas[\"Framework Programme\"].iloc[i]\n",
        "total_per_area"
      ]
    },
    {
      "cell_type": "code",
      "execution_count": null,
      "metadata": {
        "id": "tvTPrIQeXavG"
      },
      "outputs": [],
      "source": [
        "#List of regions\n",
        "regions = list(projects.groupby(by = \"NUTS 2 Code\").count().reset_index()[\"NUTS 2 Code\"])"
      ]
    },
    {
      "cell_type": "markdown",
      "metadata": {
        "id": "CuFNVkZoXavG"
      },
      "source": [
        "#### Degree of specialization in each area for a specific region\n",
        "The function _specialization()_ Returns the percentage of projects in each area with respect to the total of projects in that specific area among all the regions in Europe.\n",
        "- Keys = tech area\n",
        "- Values = number of projects in the region / total projects in H2020 (in an specific area)"
      ]
    },
    {
      "cell_type": "code",
      "execution_count": null,
      "metadata": {
        "id": "YN7hUxSpXavH"
      },
      "outputs": [],
      "source": [
        "def specialization(region):\n",
        "    proj_per_region = projects[projects[\"NUTS 2 Code\"] == region]\n",
        "    proj_per_area = proj_per_region.groupby(by = \"Area\").count().reset_index()\n",
        "    prop_areas = {}\n",
        "    for i in range(len(proj_per_area)):\n",
        "        area = proj_per_area[\"Area\"].iloc[i]\n",
        "        prop_areas[area] = proj_per_area[\"Framework Programme\"].iloc[i]/total_per_area[area]\n",
        "    return prop_areas #dict with keys=areas and vals=percentage of projects in that area in the region"
      ]
    },
    {
      "cell_type": "markdown",
      "metadata": {
        "id": "rqkUlyxvXavH"
      },
      "source": [
        "Now the matrix with the values of specialization in each tech area for all regions is created."
      ]
    },
    {
      "cell_type": "code",
      "execution_count": null,
      "metadata": {
        "id": "OdADid48XavH"
      },
      "outputs": [],
      "source": [
        "market = pd.DataFrame()\n",
        "market[\"ES30\"] = specialization(\"ES30\") #region with projects in all 14 areas\n",
        "for region in regions:\n",
        "    areas_series = pd.Series(specialization(region))\n",
        "    market[region] = areas_series\n",
        "market = market[regions] #sorting columns in ascending alphabetical order"
      ]
    },
    {
      "cell_type": "markdown",
      "metadata": {
        "id": "UdDuGNT6XavH"
      },
      "source": [
        "### DIMENSION 2: Company size (SME or big enterprise)"
      ]
    },
    {
      "cell_type": "markdown",
      "metadata": {
        "id": "ODo_MwthXavH"
      },
      "source": [
        "#### Number of Small/Medium Enterprises (SMEs) per region"
      ]
    },
    {
      "cell_type": "markdown",
      "metadata": {
        "id": "ZFDPsJHEXavI"
      },
      "source": [
        "It is important to determine whether an institution is a SME because that indicates that the organization is in the initial phase, when it needs capital to start up operations and grow."
      ]
    },
    {
      "cell_type": "code",
      "execution_count": null,
      "metadata": {
        "id": "Kx8-b3exXavI"
      },
      "outputs": [],
      "source": [
        "smes_per_region = {}\n",
        "for i in range(length_projects):\n",
        "    if projects[\"SME Flag\"].iloc[i] == \"Yes\":\n",
        "        if projects[\"NUTS 2 Code\"].iloc[i] not in smes_per_region:\n",
        "            smes_per_region[projects[\"NUTS 2 Code\"].iloc[i]] = 1\n",
        "        else:\n",
        "            smes_per_region[projects[\"NUTS 2 Code\"].iloc[i]] += 1\n",
        "    if projects[\"NUTS 2 Code\"].iloc[i] not in smes_per_region:\n",
        "        smes_per_region[projects[\"NUTS 2 Code\"].iloc[i]] = 0\n",
        "\n",
        "#Sorting in alphabetical order\n",
        "smes_per_region = {regions[i]:smes_per_region[regions[i]] for i in range(len(regions))}"
      ]
    },
    {
      "cell_type": "markdown",
      "metadata": {
        "id": "nXf7UeqaXavI"
      },
      "source": [
        "#### Number of non-SMEs (large enterprises) per region\n",
        "Consolidated company -> The organization is mature, needs capital to grow and innovate."
      ]
    },
    {
      "cell_type": "code",
      "execution_count": null,
      "metadata": {
        "id": "qpYypYT3XavI"
      },
      "outputs": [],
      "source": [
        "les_per_region = {}\n",
        "for region in smes_per_region:\n",
        "    les_per_region[region] = 1 - smes_per_region[region]"
      ]
    },
    {
      "cell_type": "markdown",
      "metadata": {
        "id": "5f7vKncTXavI"
      },
      "source": [
        "### DIMENSION 3: Technological Maturity\n",
        "Proportion of deep tech/development/integration projects in each region. Considering data on \"Entity Type\", it will be assumed that:\n",
        "- Higher or secondary education -> deep tech\n",
        "- Others -> not specified, will not taken into consideration in the computation\n",
        "- Private for profit (excl. education) -> integration\n",
        "- Public body (excl. research and education) -> will not taken into consideration in the computation\n",
        "- Research organisations -> development"
      ]
    },
    {
      "cell_type": "code",
      "execution_count": null,
      "metadata": {
        "id": "bhO85szSXavI"
      },
      "outputs": [],
      "source": [
        "entity_types = set(projects[\"Legal Entity Type Descr\"])\n",
        "entities = [i for i in entity_types]\n",
        "\n",
        "#Excluding projects that have \"Others\" value in column \"Legal Entity Type Descr\"\n",
        "non_others_idx = list(projects[projects[\"Legal Entity Type Descr\"] == \"Others\"].index)\n",
        "non_others_projects = projects.drop(non_others_idx)\n",
        "\n",
        "#Grouping and merging \n",
        "non_others_grouped = non_others_projects.groupby([\"NUTS 2 Code\", \"Legal Entity Type Descr\"], as_index = False).count()\n",
        "non_others_totalprojects = non_others_grouped.groupby(\"NUTS 2 Code\", as_index = False).sum()\n",
        "non_others_merged = pd.merge(non_others_grouped, non_others_totalprojects, on = \"NUTS 2 Code\")\n",
        "\n",
        "def tech_level_proportion(entity_type):\n",
        "    classification = {}\n",
        "    for i in range(len(non_others_merged)):\n",
        "        if non_others_merged[\"Legal Entity Type Descr\"].iloc[i] == entity_type:\n",
        "            region = non_others_merged[\"NUTS 2 Code\"].iloc[i]\n",
        "            classification[region] = non_others_merged[\"Framework Programme_x\"].iloc[i] / non_others_merged[\"Framework Programme_y\"].iloc[i]\n",
        "    \n",
        "    #Filling with 0's the regions that do not have any universities\n",
        "        for r in regions:\n",
        "            if r not in classification:\n",
        "                classification[r] = 0\n",
        "\n",
        "    #Sorting in alphabetical order\n",
        "    classification = {regions[i]:classification[regions[i]] for i in range(len(regions))}\n",
        "\n",
        "    return classification\n",
        "\n",
        "#Deep-tech proportion per region\n",
        "deeptech_per_region = tech_level_proportion(\"Higher or secondary education\")\n",
        "\n",
        "#Development proportion per region\n",
        "development_per_region = tech_level_proportion(\"Public body (excl. research and education)\")\n",
        "\n",
        "#Integration proportion per region\n",
        "integration_per_region = tech_level_proportion(\"Private for profit (excl. education)\")"
      ]
    },
    {
      "cell_type": "markdown",
      "metadata": {
        "id": "bi_utuh2XavJ"
      },
      "source": [
        "### DIMENSION 4: Capital"
      ]
    },
    {
      "cell_type": "markdown",
      "metadata": {
        "id": "y9UwVAfJXavJ"
      },
      "source": [
        "#### Euro amount of capital grants received by each European region in H2020 projects"
      ]
    },
    {
      "cell_type": "code",
      "execution_count": null,
      "metadata": {
        "id": "VER6rPEEXavJ"
      },
      "outputs": [],
      "source": [
        "grants = {}\n",
        "for i in range(len(projects)):\n",
        "    reg = projects[\"NUTS 2 Code\"].iloc[i]\n",
        "    inv = projects[\"H2020 Net EU Contribution\"].iloc[i]\n",
        "    if reg not in grants:\n",
        "        grants[reg] = inv\n",
        "    else:\n",
        "        grants[reg] += inv\n",
        "        \n",
        "#Sorting in alphabetical order\n",
        "grants_per_region = {regions[i]:grants[regions[i]] for i in range(len(regions))}"
      ]
    },
    {
      "cell_type": "markdown",
      "metadata": {
        "id": "jyLzdgQ-XavJ"
      },
      "source": [
        "### DIMENSION 5: Human Resources"
      ]
    },
    {
      "cell_type": "markdown",
      "metadata": {
        "id": "yTIMXriyXavJ"
      },
      "source": [
        "#### Number of universities that have participated in H2020 projects in each region"
      ]
    },
    {
      "cell_type": "code",
      "execution_count": null,
      "metadata": {
        "id": "0_qim33pXavJ"
      },
      "outputs": [],
      "source": [
        "universities = {}\n",
        "for i in range(length_projects):\n",
        "    if projects[\"Legal Entity Type Descr\"].iloc[i] == \"Higher or secondary education\":\n",
        "        if projects[\"NUTS 2 Code\"].iloc[i] not in universities:\n",
        "            universities[projects[\"NUTS 2 Code\"].iloc[i]] = 1\n",
        "        else:\n",
        "            universities[projects[\"NUTS 2 Code\"].iloc[i]] += 1\n",
        "\n",
        "#Filling with 0's the regions that do not have any universities\n",
        "for r in regions:\n",
        "    if r not in universities:\n",
        "        universities[r] = 0\n",
        "\n",
        "#Sorting in alphabetical order\n",
        "unis_per_region = {regions[i]:universities[regions[i]] for i in range(len(regions))}"
      ]
    },
    {
      "cell_type": "markdown",
      "metadata": {
        "id": "atrglD4gXavJ"
      },
      "source": [
        "### DIMENSION 6: Innovative Ecosystem"
      ]
    },
    {
      "cell_type": "markdown",
      "metadata": {
        "id": "-WNAUfE1XavJ"
      },
      "source": [
        "#### Networking capacity of each region"
      ]
    },
    {
      "cell_type": "code",
      "execution_count": null,
      "metadata": {
        "id": "VpIrSlCKXavK"
      },
      "outputs": [],
      "source": [
        "#Each institution's networking capacity -> Number of companies/unis/tech centers each institution is collaborating with.\n",
        "collabs = {}\n",
        "acronyms = projects[\"Project Acronym\"]\n",
        "for i in range(len(projects)):\n",
        "    project = acronyms.iloc[i]\n",
        "    institution = projects[\"Legal Name\"].iloc[i]\n",
        "    if institution not in collabs:\n",
        "        collabs[institution] = len(projects[acronyms == project]) - 1\n",
        "    else:\n",
        "        collabs[institution] += len(projects[acronyms == project]) - 1     \n",
        "\n",
        "#Total networking capacity of a region\n",
        "networking = {}\n",
        "for ins in collabs:\n",
        "    reg = list(projects[projects[\"Legal Name\"] == ins][\"NUTS 2 Code\"])[0]\n",
        "    if reg not in networking:\n",
        "        networking[reg] = collabs[ins]\n",
        "    else:\n",
        "        networking[reg] += collabs[ins]\n",
        "\n",
        "#Sorting in alphabetical order\n",
        "networking_per_region = {regions[i]:networking[regions[i]] for i in range(len(regions))}"
      ]
    },
    {
      "cell_type": "markdown",
      "metadata": {
        "id": "yD-u0ofqXavK"
      },
      "source": [
        "# DIGITALIZATION DB"
      ]
    },
    {
      "cell_type": "code",
      "execution_count": null,
      "metadata": {
        "id": "9qCeqL-QXavK",
        "outputId": "98881b67-7362-4314-f2ef-88e222fde306"
      },
      "outputs": [
        {
          "data": {
            "text/html": [
              "<div>\n",
              "<style scoped>\n",
              "    .dataframe tbody tr th:only-of-type {\n",
              "        vertical-align: middle;\n",
              "    }\n",
              "\n",
              "    .dataframe tbody tr th {\n",
              "        vertical-align: top;\n",
              "    }\n",
              "\n",
              "    .dataframe thead th {\n",
              "        text-align: right;\n",
              "    }\n",
              "</style>\n",
              "<table border=\"1\" class=\"dataframe\">\n",
              "  <thead>\n",
              "    <tr style=\"text-align: right;\">\n",
              "      <th></th>\n",
              "      <th>Country</th>\n",
              "      <th>4G coverage</th>\n",
              "      <th>Fiber coverage</th>\n",
              "      <th>Internet BW per user</th>\n",
              "      <th>5G commercial networks</th>\n",
              "      <th># of IXPs</th>\n",
              "      <th># &amp; maturity of 5G pilots</th>\n",
              "      <th>Time to get electricity</th>\n",
              "      <th>4G launch year</th>\n",
              "      <th>5G spectrum auction plans</th>\n",
              "      <th>...</th>\n",
              "      <th>VC availability</th>\n",
              "      <th>Tertiary (%)</th>\n",
              "      <th>Skillset of univrsity graduates</th>\n",
              "      <th>Extent of staff training</th>\n",
              "      <th>Availability of scientists &amp; engineers</th>\n",
              "      <th>e-Gov services</th>\n",
              "      <th>Competition in network services</th>\n",
              "      <th>GDP per capita</th>\n",
              "      <th>ICTs &amp; business model creation</th>\n",
              "      <th>Internet users (% of population)</th>\n",
              "    </tr>\n",
              "  </thead>\n",
              "  <tbody>\n",
              "    <tr>\n",
              "      <th>0</th>\n",
              "      <td>Finland</td>\n",
              "      <td>89.5</td>\n",
              "      <td>37.5</td>\n",
              "      <td>62.05</td>\n",
              "      <td>100.0</td>\n",
              "      <td>10.11</td>\n",
              "      <td>30.15</td>\n",
              "      <td>86.55</td>\n",
              "      <td>90.91</td>\n",
              "      <td>66.67</td>\n",
              "      <td>...</td>\n",
              "      <td>68.81</td>\n",
              "      <td>62.76</td>\n",
              "      <td>78.09</td>\n",
              "      <td>75.25</td>\n",
              "      <td>83.84</td>\n",
              "      <td>96.5</td>\n",
              "      <td>76.29</td>\n",
              "      <td>86.24</td>\n",
              "      <td>85.00</td>\n",
              "      <td>88.89</td>\n",
              "    </tr>\n",
              "    <tr>\n",
              "      <th>1</th>\n",
              "      <td>Switzerland</td>\n",
              "      <td>89.6</td>\n",
              "      <td>30.3</td>\n",
              "      <td>61.50</td>\n",
              "      <td>100.0</td>\n",
              "      <td>30.32</td>\n",
              "      <td>23.60</td>\n",
              "      <td>87.54</td>\n",
              "      <td>72.73</td>\n",
              "      <td>66.67</td>\n",
              "      <td>...</td>\n",
              "      <td>56.00</td>\n",
              "      <td>42.38</td>\n",
              "      <td>83.56</td>\n",
              "      <td>78.97</td>\n",
              "      <td>68.76</td>\n",
              "      <td>84.7</td>\n",
              "      <td>68.46</td>\n",
              "      <td>88.82</td>\n",
              "      <td>85.00</td>\n",
              "      <td>89.81</td>\n",
              "    </tr>\n",
              "    <tr>\n",
              "      <th>2</th>\n",
              "      <td>Germany</td>\n",
              "      <td>76.9</td>\n",
              "      <td>8.5</td>\n",
              "      <td>55.92</td>\n",
              "      <td>100.0</td>\n",
              "      <td>80.85</td>\n",
              "      <td>64.24</td>\n",
              "      <td>91.15</td>\n",
              "      <td>90.91</td>\n",
              "      <td>66.67</td>\n",
              "      <td>...</td>\n",
              "      <td>63.42</td>\n",
              "      <td>49.99</td>\n",
              "      <td>70.84</td>\n",
              "      <td>65.26</td>\n",
              "      <td>69.24</td>\n",
              "      <td>93.1</td>\n",
              "      <td>73.07</td>\n",
              "      <td>87.12</td>\n",
              "      <td>78.33</td>\n",
              "      <td>89.74</td>\n",
              "    </tr>\n",
              "    <tr>\n",
              "      <th>3</th>\n",
              "      <td>Denmark</td>\n",
              "      <td>88.6</td>\n",
              "      <td>64.4</td>\n",
              "      <td>62.59</td>\n",
              "      <td>25.0</td>\n",
              "      <td>12.63</td>\n",
              "      <td>10.49</td>\n",
              "      <td>87.87</td>\n",
              "      <td>90.91</td>\n",
              "      <td>33.33</td>\n",
              "      <td>...</td>\n",
              "      <td>46.50</td>\n",
              "      <td>57.37</td>\n",
              "      <td>75.01</td>\n",
              "      <td>71.17</td>\n",
              "      <td>56.60</td>\n",
              "      <td>100.0</td>\n",
              "      <td>62.60</td>\n",
              "      <td>87.17</td>\n",
              "      <td>75.00</td>\n",
              "      <td>97.64</td>\n",
              "    </tr>\n",
              "    <tr>\n",
              "      <th>4</th>\n",
              "      <td>Sweden</td>\n",
              "      <td>91.1</td>\n",
              "      <td>72.2</td>\n",
              "      <td>58.91</td>\n",
              "      <td>25.0</td>\n",
              "      <td>45.48</td>\n",
              "      <td>7.87</td>\n",
              "      <td>83.27</td>\n",
              "      <td>100.00</td>\n",
              "      <td>50.00</td>\n",
              "      <td>...</td>\n",
              "      <td>56.36</td>\n",
              "      <td>47.67</td>\n",
              "      <td>74.92</td>\n",
              "      <td>70.73</td>\n",
              "      <td>64.03</td>\n",
              "      <td>94.4</td>\n",
              "      <td>72.07</td>\n",
              "      <td>87.28</td>\n",
              "      <td>81.67</td>\n",
              "      <td>92.14</td>\n",
              "    </tr>\n",
              "  </tbody>\n",
              "</table>\n",
              "<p>5 rows × 33 columns</p>\n",
              "</div>"
            ],
            "text/plain": [
              "       Country  4G coverage  Fiber coverage  Internet BW per user  \\\n",
              "0      Finland         89.5            37.5                 62.05   \n",
              "1  Switzerland         89.6            30.3                 61.50   \n",
              "2      Germany         76.9             8.5                 55.92   \n",
              "3      Denmark         88.6            64.4                 62.59   \n",
              "4       Sweden         91.1            72.2                 58.91   \n",
              "\n",
              "   5G commercial networks  # of IXPs  # & maturity of 5G pilots  \\\n",
              "0                   100.0      10.11                      30.15   \n",
              "1                   100.0      30.32                      23.60   \n",
              "2                   100.0      80.85                      64.24   \n",
              "3                    25.0      12.63                      10.49   \n",
              "4                    25.0      45.48                       7.87   \n",
              "\n",
              "   Time to get electricity  4G launch year  5G spectrum auction plans  ...  \\\n",
              "0                    86.55           90.91                      66.67  ...   \n",
              "1                    87.54           72.73                      66.67  ...   \n",
              "2                    91.15           90.91                      66.67  ...   \n",
              "3                    87.87           90.91                      33.33  ...   \n",
              "4                    83.27          100.00                      50.00  ...   \n",
              "\n",
              "   VC availability  Tertiary (%)  Skillset of univrsity graduates  \\\n",
              "0            68.81         62.76                            78.09   \n",
              "1            56.00         42.38                            83.56   \n",
              "2            63.42         49.99                            70.84   \n",
              "3            46.50         57.37                            75.01   \n",
              "4            56.36         47.67                            74.92   \n",
              "\n",
              "   Extent of staff training  Availability of scientists & engineers  \\\n",
              "0                     75.25                                   83.84   \n",
              "1                     78.97                                   68.76   \n",
              "2                     65.26                                   69.24   \n",
              "3                     71.17                                   56.60   \n",
              "4                     70.73                                   64.03   \n",
              "\n",
              "   e-Gov services  Competition in network services  GDP per capita  \\\n",
              "0            96.5                            76.29           86.24   \n",
              "1            84.7                            68.46           88.82   \n",
              "2            93.1                            73.07           87.12   \n",
              "3           100.0                            62.60           87.17   \n",
              "4            94.4                            72.07           87.28   \n",
              "\n",
              "   ICTs & business model creation  Internet users (% of population)  \n",
              "0                           85.00                             88.89  \n",
              "1                           85.00                             89.81  \n",
              "2                           78.33                             89.74  \n",
              "3                           75.00                             97.64  \n",
              "4                           81.67                             92.14  \n",
              "\n",
              "[5 rows x 33 columns]"
            ]
          },
          "execution_count": 25,
          "metadata": {},
          "output_type": "execute_result"
        }
      ],
      "source": [
        "digitalization = pd.read_csv(\"Datasets/Subfactor score table.csv\")\n",
        "digitalization.head(5)"
      ]
    },
    {
      "cell_type": "code",
      "execution_count": null,
      "metadata": {
        "id": "xZW2cvwFXavK",
        "outputId": "4e36276b-eb2d-49fe-e02b-9a928dba7e43"
      },
      "outputs": [
        {
          "data": {
            "text/plain": [
              "['Country',\n",
              " '4G coverage',\n",
              " 'Fiber coverage',\n",
              " 'Internet BW per user',\n",
              " '5G commercial networks',\n",
              " '# of IXPs',\n",
              " '# & maturity of 5G pilots',\n",
              " 'Time to get electricity',\n",
              " '4G launch year',\n",
              " '5G spectrum auction plans',\n",
              " 'Govt ensuring policy stability',\n",
              " \"Legal fwk's adaptability to digital BMs\",\n",
              " 'Efficiency in settling disputes',\n",
              " 'Efficiency in challenging regulations',\n",
              " 'Burden of govt regulation',\n",
              " 'Public sector corruption',\n",
              " '# of days to start a business',\n",
              " 'Companies with disruptive ideas',\n",
              " 'Growth of innovative companies',\n",
              " 'Researchers in R&D',\n",
              " 'R&D expenditure (% of GDP)',\n",
              " 'University-industry collaboration',\n",
              " 'FDI & technology transfer',\n",
              " 'VC availability',\n",
              " 'Tertiary (%)',\n",
              " 'Skillset of univrsity graduates',\n",
              " 'Extent of staff training',\n",
              " 'Availability of scientists & engineers',\n",
              " 'e-Gov services',\n",
              " 'Competition in network services',\n",
              " 'GDP per capita',\n",
              " 'ICTs & business model creation',\n",
              " 'Internet users (% of population)']"
            ]
          },
          "execution_count": 26,
          "metadata": {},
          "output_type": "execute_result"
        }
      ],
      "source": [
        "# Columns in Digitalization DB\n",
        "list(digitalization.columns)"
      ]
    },
    {
      "cell_type": "markdown",
      "metadata": {
        "id": "MfFJf-bFXavL"
      },
      "source": [
        "With all this information, we can get very valuable insights on the digital capacity of each country. "
      ]
    },
    {
      "cell_type": "code",
      "execution_count": null,
      "metadata": {
        "id": "k2WV8mbkXavL"
      },
      "outputs": [],
      "source": [
        "#Defining a general function to convert national values into a dict of regional values\n",
        "def nat_to_reg(nat_dimension):\n",
        "    regional = {}\n",
        "    for i in range(len(projects)):\n",
        "        country = projects[\"Country\"].iloc[i]\n",
        "        reg = projects[\"NUTS 2 Code\"].iloc[i]\n",
        "        if reg not in regional:\n",
        "            num = list(nat_dimension[nat_dimension[\"Country\"] == country][\"Overall\"])\n",
        "            if len(num) != 0:\n",
        "                regional[reg] = num[0]/100\n",
        "            else:\n",
        "                regional[reg] = 0     \n",
        "    #Sort per region names\n",
        "    regional = {regions[i]:regional[regions[i]] for i in range(len(regions))}\n",
        "    return regional"
      ]
    },
    {
      "cell_type": "markdown",
      "metadata": {
        "id": "mUwTPf7TXavL"
      },
      "source": [
        "### DIMENSION 4.2: Capital"
      ]
    },
    {
      "cell_type": "code",
      "execution_count": null,
      "metadata": {
        "id": "QegaQRzUXavL"
      },
      "outputs": [],
      "source": [
        "more_investment = digitalization.loc[:, ['Country',\n",
        "                                         'FDI & technology transfer',\n",
        "                                         'R&D expenditure (% of GDP)',\n",
        "                                         'VC availability']]\n",
        "more_investment[\"Overall\"] = list(more_investment.mean(axis = 1))\n",
        "more_investment_per_region = nat_to_reg(more_investment)"
      ]
    },
    {
      "cell_type": "markdown",
      "metadata": {
        "id": "J02phS_qXavL"
      },
      "source": [
        "### DIMENSION 5.2: Human Resources"
      ]
    },
    {
      "cell_type": "code",
      "execution_count": null,
      "metadata": {
        "id": "YBGpkUUGXavL"
      },
      "outputs": [],
      "source": [
        "hhrr = digitalization.loc[:, ['Country',\n",
        "                             'Researchers in R&D',\n",
        "                             'University-industry collaboration',\n",
        "                             'Skillset of univrsity graduates',\n",
        "                             'Extent of staff training',\n",
        "                             'Availability of scientists & engineers']]\n",
        "hhrr[\"Overall\"] = list(hhrr.mean(axis = 1))\n",
        "hhrr_per_region = nat_to_reg(hhrr)"
      ]
    },
    {
      "cell_type": "markdown",
      "metadata": {
        "id": "6i8e5zeQXavM"
      },
      "source": [
        "### DIMENSION 7: Government\n",
        "#### Legal easiness to operate an ICT business"
      ]
    },
    {
      "cell_type": "code",
      "execution_count": null,
      "metadata": {
        "id": "6EnMB4Z4XavM"
      },
      "outputs": [],
      "source": [
        "legal = digitalization.loc[:, ['Country',\n",
        "           'Govt ensuring policy stability', \n",
        "          \"Legal fwk's adaptability to digital BMs\",\n",
        "          'Efficiency in settling disputes',\n",
        "          'Efficiency in challenging regulations',\n",
        "          'Burden of govt regulation',\n",
        "          '# of days to start a business',\n",
        "          'e-Gov services']]\n",
        "legal[\"Overall\"] = list(legal.mean(axis = 1))\n",
        "legal_per_region = nat_to_reg(legal)"
      ]
    },
    {
      "cell_type": "markdown",
      "metadata": {
        "id": "teQ4Xl3-XavM"
      },
      "source": [
        "### DIMENSION 8: Tech Infrastructure"
      ]
    },
    {
      "cell_type": "code",
      "execution_count": null,
      "metadata": {
        "id": "bRYha2T6XavM"
      },
      "outputs": [],
      "source": [
        "infrastructure = digitalization.loc[:, ['Country',\n",
        "                                       '4G coverage',\n",
        "                                        'Fiber coverage',\n",
        "                                        'Internet BW per user',\n",
        "                                        '5G commercial networks',\n",
        "                                        '# of IXPs',\n",
        "                                        '# & maturity of 5G pilots',\n",
        "                                        'Time to get electricity',\n",
        "                                        '4G launch year',\n",
        "                                        '5G spectrum auction plans']]\n",
        "infrastructure[\"Overall\"] = list(infrastructure.mean(axis = 1))\n",
        "infrastructure_per_region = nat_to_reg(infrastructure)"
      ]
    },
    {
      "cell_type": "markdown",
      "metadata": {
        "id": "7Pe-J7UCXavN"
      },
      "source": [
        "# DIGITAL INNOVATION HUBS DB"
      ]
    },
    {
      "cell_type": "code",
      "execution_count": null,
      "metadata": {
        "id": "rot-seW7XavN",
        "outputId": "1620701c-bbca-430f-ab73-b9fae9eb0941"
      },
      "outputs": [
        {
          "data": {
            "text/html": [
              "<div>\n",
              "<style scoped>\n",
              "    .dataframe tbody tr th:only-of-type {\n",
              "        vertical-align: middle;\n",
              "    }\n",
              "\n",
              "    .dataframe tbody tr th {\n",
              "        vertical-align: top;\n",
              "    }\n",
              "\n",
              "    .dataframe thead th {\n",
              "        text-align: right;\n",
              "    }\n",
              "</style>\n",
              "<table border=\"1\" class=\"dataframe\">\n",
              "  <thead>\n",
              "    <tr style=\"text-align: right;\">\n",
              "      <th></th>\n",
              "      <th>DIH Name</th>\n",
              "      <th>Location</th>\n",
              "      <th>City</th>\n",
              "      <th>Country</th>\n",
              "      <th>Website</th>\n",
              "      <th>NUTS2 Code</th>\n",
              "      <th>NUTS2 Name</th>\n",
              "    </tr>\n",
              "  </thead>\n",
              "  <tbody>\n",
              "    <tr>\n",
              "      <th>1</th>\n",
              "      <td>Aachen DIH Center for Robotics in Healthcare</td>\n",
              "      <td>Pauwelsstraße 30</td>\n",
              "      <td>Aachen</td>\n",
              "      <td>Germany</td>\n",
              "      <td>http://www.robotics.ukaachen.de/</td>\n",
              "      <td>DEA2</td>\n",
              "      <td>Köln</td>\n",
              "    </tr>\n",
              "    <tr>\n",
              "      <th>2</th>\n",
              "      <td>Aalen University / Transfer Platform Industry 4.0</td>\n",
              "      <td>Beethovenstraße, 1</td>\n",
              "      <td>Aalen</td>\n",
              "      <td>Germany</td>\n",
              "      <td>http://www.hs-aalen.de/</td>\n",
              "      <td>DE11</td>\n",
              "      <td>Stuttgart</td>\n",
              "    </tr>\n",
              "    <tr>\n",
              "      <th>3</th>\n",
              "      <td>Aarhus University Centre for Digitalisation, B...</td>\n",
              "      <td>Finlandsgade 22</td>\n",
              "      <td>Aarhus</td>\n",
              "      <td>Denmark</td>\n",
              "      <td>http://www.digit.au.dk</td>\n",
              "      <td>DK04</td>\n",
              "      <td>Midtjylland</td>\n",
              "    </tr>\n",
              "    <tr>\n",
              "      <th>4</th>\n",
              "      <td>Accelerating Photonics innovation for SME’s (A...</td>\n",
              "      <td>Brussels Photonics B-PHOT, Vrije Universiteit ...</td>\n",
              "      <td>Brussel</td>\n",
              "      <td>Belgium</td>\n",
              "      <td>http://www.actphast.eu</td>\n",
              "      <td>BE10</td>\n",
              "      <td>Région de Bruxelles-Capitale / Brussels Hoofds...</td>\n",
              "    </tr>\n",
              "    <tr>\n",
              "      <th>5</th>\n",
              "      <td>ADAPT Centre</td>\n",
              "      <td>O'Reilly Building, Trinity College Dublin</td>\n",
              "      <td>Dublin</td>\n",
              "      <td>Ireland</td>\n",
              "      <td>https://www.adaptcentre.ie/</td>\n",
              "      <td>IE02</td>\n",
              "      <td>Southern and Eastern (NUTS 2013)</td>\n",
              "    </tr>\n",
              "  </tbody>\n",
              "</table>\n",
              "</div>"
            ],
            "text/plain": [
              "                                            DIH Name  \\\n",
              "1       Aachen DIH Center for Robotics in Healthcare   \n",
              "2  Aalen University / Transfer Platform Industry 4.0   \n",
              "3  Aarhus University Centre for Digitalisation, B...   \n",
              "4  Accelerating Photonics innovation for SME’s (A...   \n",
              "5                                       ADAPT Centre   \n",
              "\n",
              "                                            Location     City  Country  \\\n",
              "1                                   Pauwelsstraße 30   Aachen  Germany   \n",
              "2                                 Beethovenstraße, 1    Aalen  Germany   \n",
              "3                                    Finlandsgade 22   Aarhus  Denmark   \n",
              "4  Brussels Photonics B-PHOT, Vrije Universiteit ...  Brussel  Belgium   \n",
              "5          O'Reilly Building, Trinity College Dublin   Dublin  Ireland   \n",
              "\n",
              "                            Website NUTS2 Code   \\\n",
              "1  http://www.robotics.ukaachen.de/        DEA2   \n",
              "2           http://www.hs-aalen.de/        DE11   \n",
              "3            http://www.digit.au.dk        DK04   \n",
              "4            http://www.actphast.eu        BE10   \n",
              "5       https://www.adaptcentre.ie/        IE02   \n",
              "\n",
              "                                         NUTS2 Name   \n",
              "1                                               Köln  \n",
              "2                                          Stuttgart  \n",
              "3                                        Midtjylland  \n",
              "4  Région de Bruxelles-Capitale / Brussels Hoofds...  \n",
              "5                   Southern and Eastern (NUTS 2013)  "
            ]
          },
          "execution_count": 32,
          "metadata": {},
          "output_type": "execute_result"
        }
      ],
      "source": [
        "import numbers_parser\n",
        "from numbers_parser import Document\n",
        "\n",
        "doc4 = Document(\"Datasets/digital-innovation-hubs.numbers\")\n",
        "sheets4 = doc4.sheets()\n",
        "tables4 = sheets4[0].tables()\n",
        "rows4 = tables4[0].rows()\n",
        "data4 = tables4[0].rows(values_only = True)\n",
        "df4 = pd.DataFrame(data4)\n",
        "headers4 = list(df4.iloc[0])\n",
        "df4 = df4.iloc[1:]\n",
        "df4.columns = headers4\n",
        "df4.head(5)"
      ]
    },
    {
      "cell_type": "markdown",
      "metadata": {
        "id": "xbe9IM1QXavN"
      },
      "source": [
        "### DIMENSION 4.3: Innovative Ecosystem\n",
        "#### Number of innovation hubs per region"
      ]
    },
    {
      "cell_type": "code",
      "execution_count": null,
      "metadata": {
        "id": "g-ZzLiV1XavN"
      },
      "outputs": [],
      "source": [
        "hubs = df4.groupby(\"NUTS2 Code \", as_index = False).count()\n",
        "hubs_regs = list(hubs[\"NUTS2 Code \"])\n",
        "hubs_quant = list(hubs[\"DIH Name\"])\n",
        "hubs_per_region = {hubs_regs[i]: hubs_quant[i] for i in range(len(hubs))}\n",
        "\n",
        "#Adding 0s to EU regions that do not have any tech hub \n",
        "for r in regions: \n",
        "    if r not in hubs_per_region:\n",
        "        hubs_per_region[r] = 0\n",
        "\n",
        "#Sorting list in alphabetical order\n",
        "hubs_per_region = {regions[i]:hubs_per_region[regions[i]] for i in range(len(regions))}"
      ]
    },
    {
      "cell_type": "markdown",
      "metadata": {
        "id": "j7XFzy8aXavN"
      },
      "source": [
        "# UNICORNS DB"
      ]
    },
    {
      "cell_type": "code",
      "execution_count": null,
      "metadata": {
        "id": "ShPF38YnXavN",
        "outputId": "cdd56f53-9b7e-4d34-8da2-92120b3fda5b"
      },
      "outputs": [
        {
          "data": {
            "text/html": [
              "<div>\n",
              "<style scoped>\n",
              "    .dataframe tbody tr th:only-of-type {\n",
              "        vertical-align: middle;\n",
              "    }\n",
              "\n",
              "    .dataframe tbody tr th {\n",
              "        vertical-align: top;\n",
              "    }\n",
              "\n",
              "    .dataframe thead th {\n",
              "        text-align: right;\n",
              "    }\n",
              "</style>\n",
              "<table border=\"1\" class=\"dataframe\">\n",
              "  <thead>\n",
              "    <tr style=\"text-align: right;\">\n",
              "      <th></th>\n",
              "      <th>Company</th>\n",
              "      <th>Valuation</th>\n",
              "      <th>Date Joined</th>\n",
              "      <th>Country</th>\n",
              "      <th>City</th>\n",
              "      <th>Industry</th>\n",
              "      <th>Select Investors</th>\n",
              "    </tr>\n",
              "  </thead>\n",
              "  <tbody>\n",
              "    <tr>\n",
              "      <th>1</th>\n",
              "      <td>1047 Games</td>\n",
              "      <td>$1.5</td>\n",
              "      <td>9/14/2021</td>\n",
              "      <td>United States</td>\n",
              "      <td>Zephyr Cove</td>\n",
              "      <td>Internet software &amp; services</td>\n",
              "      <td>VGames, Lakestar, Galaxy Interactive</td>\n",
              "    </tr>\n",
              "    <tr>\n",
              "      <th>2</th>\n",
              "      <td>1KMXC</td>\n",
              "      <td>$1</td>\n",
              "      <td>8/30/2021</td>\n",
              "      <td>China</td>\n",
              "      <td>Hangzhou</td>\n",
              "      <td>Hardware</td>\n",
              "      <td>Goldman Sachs Asset Management, SDP Investment...</td>\n",
              "    </tr>\n",
              "    <tr>\n",
              "      <th>3</th>\n",
              "      <td>1Password</td>\n",
              "      <td>$6.8</td>\n",
              "      <td>7/8/2021</td>\n",
              "      <td>Canada</td>\n",
              "      <td>Toronto</td>\n",
              "      <td>Cybersecurity</td>\n",
              "      <td>Slack Fund, Accel, Skip Capital</td>\n",
              "    </tr>\n",
              "    <tr>\n",
              "      <th>4</th>\n",
              "      <td>4Paradigm</td>\n",
              "      <td>$2</td>\n",
              "      <td>12/19/2018</td>\n",
              "      <td>China</td>\n",
              "      <td>Beijing</td>\n",
              "      <td>Artificial intelligence</td>\n",
              "      <td>Sequoia Capital China, China Construction Bank...</td>\n",
              "    </tr>\n",
              "    <tr>\n",
              "      <th>5</th>\n",
              "      <td>56PINGTAI</td>\n",
              "      <td>$1.08</td>\n",
              "      <td>1/25/2021</td>\n",
              "      <td>China</td>\n",
              "      <td>Shanghai</td>\n",
              "      <td>Supply chain, logistics, &amp; delivery</td>\n",
              "      <td>QF Capital, QC Capital, Unicom Innovation Vent...</td>\n",
              "    </tr>\n",
              "  </tbody>\n",
              "</table>\n",
              "</div>"
            ],
            "text/plain": [
              "0     Company Valuation Date Joined        Country         City  \\\n",
              "1  1047 Games      $1.5   9/14/2021  United States  Zephyr Cove   \n",
              "2       1KMXC        $1   8/30/2021          China     Hangzhou   \n",
              "3   1Password      $6.8    7/8/2021         Canada      Toronto   \n",
              "4   4Paradigm        $2  12/19/2018          China      Beijing   \n",
              "5   56PINGTAI     $1.08   1/25/2021          China     Shanghai   \n",
              "\n",
              "0                             Industry  \\\n",
              "1         Internet software & services   \n",
              "2                             Hardware   \n",
              "3                        Cybersecurity   \n",
              "4              Artificial intelligence   \n",
              "5  Supply chain, logistics, & delivery   \n",
              "\n",
              "0                                   Select Investors  \n",
              "1               VGames, Lakestar, Galaxy Interactive  \n",
              "2  Goldman Sachs Asset Management, SDP Investment...  \n",
              "3                    Slack Fund, Accel, Skip Capital  \n",
              "4  Sequoia Capital China, China Construction Bank...  \n",
              "5  QF Capital, QC Capital, Unicom Innovation Vent...  "
            ]
          },
          "execution_count": 34,
          "metadata": {},
          "output_type": "execute_result"
        }
      ],
      "source": [
        "unicorns = pd.read_excel('Datasets/unicorns.xlsx')\n",
        "unicorns.columns = unicorns.iloc[0]\n",
        "unicorns = unicorns[1:]\n",
        "unicorns.head(5)"
      ]
    },
    {
      "cell_type": "markdown",
      "metadata": {
        "id": "gH6ehnhTXavN"
      },
      "source": [
        "## Data Quality Verification\n",
        "Checking whether  the city or country as the location should be considered when assigning the number of the unicorns to a region. \n",
        "- Considering cities"
      ]
    },
    {
      "cell_type": "code",
      "execution_count": null,
      "metadata": {
        "id": "0MnV67hhXavO",
        "outputId": "0008db87-c2e5-4b28-de03-dbaaa2c5d984"
      },
      "outputs": [
        {
          "name": "stdout",
          "output_type": "stream",
          "text": [
            "150 933\n"
          ]
        }
      ],
      "source": [
        "# Transforming all city names in unicorns DB to uppercase\n",
        "unic_cities = list(unicorns[\"City\"])\n",
        "unic_cities = [x for x in unic_cities if pd.isnull(x) == False]\n",
        "unic_cities = [u.upper() for u in unic_cities]\n",
        "unic_cities\n",
        "\n",
        "#List of cities in projects DB\n",
        "eu_cities = list(projects.groupby(\"City\", as_index = False).count()[\"City\"])\n",
        "eu_cities\n",
        "\n",
        "yes = 0\n",
        "no = 0\n",
        "for c in unic_cities:\n",
        "    if c not in eu_cities:\n",
        "        no += 1\n",
        "    else:\n",
        "        yes += 1\n",
        "print(yes, no)"
      ]
    },
    {
      "cell_type": "markdown",
      "metadata": {
        "id": "pf8FG1WEXavO"
      },
      "source": [
        "- Considering countries"
      ]
    },
    {
      "cell_type": "code",
      "execution_count": null,
      "metadata": {
        "id": "ANPOp5d4XavO",
        "outputId": "5872ba2e-2464-4125-cc0f-6f4b68d02155"
      },
      "outputs": [
        {
          "name": "stdout",
          "output_type": "stream",
          "text": [
            "147 953\n"
          ]
        }
      ],
      "source": [
        "unic_countries = list(unicorns[\"Country\"])\n",
        "unic_countries = [x for x in unic_countries if pd.isnull(x) == False]\n",
        "eu_countries = list(projects.groupby(\"Country\", as_index = False).count()[\"Country\"])\n",
        "\n",
        "yes = 0\n",
        "no = 0\n",
        "for c in unic_countries:\n",
        "    if c not in eu_countries:\n",
        "        no += 1\n",
        "    else:\n",
        "        yes += 1\n",
        "print(yes, no)"
      ]
    },
    {
      "cell_type": "markdown",
      "metadata": {
        "id": "l7vFycDIXavO"
      },
      "source": [
        "Data on city names (istead of regions) will be used, since more of their values are matched with those cities in the master dataframe of vectors, apart from giving a more detailed level of information.\n",
        "#### Function to obtain the values per region of any parameter"
      ]
    },
    {
      "cell_type": "code",
      "execution_count": null,
      "metadata": {
        "id": "PVwBu6tZXavO"
      },
      "outputs": [],
      "source": [
        "#General function for unicorns DB\n",
        "def unicorns_search(vals_per_city, parameter):\n",
        "    param_per_region = {}\n",
        "    for i in range(len(vals_per_city)):\n",
        "        city = vals_per_city[\"City\"].iloc[i].upper()\n",
        "        if city in eu_cities:\n",
        "            idx = eu_cities.index(city)\n",
        "            region = projects[projects[\"City\"] == eu_cities[idx]][\"NUTS 2 Code\"].iloc[0]\n",
        "            param_val = vals_per_city[parameter].iloc[i]\n",
        "            param_per_region[region] = param_val\n",
        "\n",
        "    #adding 0s to EU regions that do not have any unicorn\n",
        "    for r in regions: \n",
        "        if r not in param_per_region:\n",
        "            param_per_region[r] = 0\n",
        "\n",
        "    #sorting list in alphabetical order\n",
        "    param_per_region = {regions[i]:param_per_region[regions[i]] for i in range(len(regions))} \n",
        "    return param_per_region"
      ]
    },
    {
      "cell_type": "markdown",
      "metadata": {
        "id": "3P7IoViIXavO"
      },
      "source": [
        "#### Number of unicorns per NUTS 2 region"
      ]
    },
    {
      "cell_type": "code",
      "execution_count": null,
      "metadata": {
        "id": "ZoHrVOBpXavO"
      },
      "outputs": [],
      "source": [
        "unic_per_city = unicorns.groupby(\"City\", as_index = False).count()\n",
        "unicorns_per_region = unicorns_search(unic_per_city, \"Company\")"
      ]
    },
    {
      "cell_type": "markdown",
      "metadata": {
        "id": "pTuKVrZ_XavO"
      },
      "source": [
        "#### Net valuation of all the unicorns in each region"
      ]
    },
    {
      "cell_type": "code",
      "execution_count": null,
      "metadata": {
        "id": "cFwWXNpoXavP"
      },
      "outputs": [],
      "source": [
        "# Converting Valuation values (strings with $) to float\n",
        "list_vals = list(unicorns[\"Valuation\"])\n",
        "float_vals = [float(list_vals[i][1:]) for i in range(len(list_vals))] \n",
        "unicorns.insert(loc = 1, column = 'Float Valuation', value = float_vals)\n",
        "val_per_city = unicorns.groupby(\"City\", as_index = False).sum()\n",
        "\n",
        "#Applying search function\n",
        "val_unic_per_region = unicorns_search(val_per_city, \"Float Valuation\")"
      ]
    },
    {
      "cell_type": "markdown",
      "metadata": {
        "id": "V-lsC7kgXavP"
      },
      "source": [
        "The information on the net valuation of all the unicorns in a region is more significant than the count of unicorns in each region -since it also indicates the size of each unicorn, so we will discard _unicorns_per_region_ and will only append _val_unic_per_region_ to the final dataframe."
      ]
    },
    {
      "cell_type": "markdown",
      "metadata": {
        "id": "-dpLUyA_XavP"
      },
      "source": [
        "# SMART REGIONS DB"
      ]
    },
    {
      "cell_type": "code",
      "execution_count": null,
      "metadata": {
        "scrolled": true,
        "id": "_gZfuiXTXavP",
        "outputId": "199443be-7fcd-4254-f180-163f8cca7b22"
      },
      "outputs": [
        {
          "name": "stderr",
          "output_type": "stream",
          "text": [
            "/Users/cpelayofernandez/opt/anaconda3/lib/python3.8/site-packages/pandas/core/indexing.py:1596: SettingWithCopyWarning: \n",
            "A value is trying to be set on a copy of a slice from a DataFrame.\n",
            "Try using .loc[row_indexer,col_indexer] = value instead\n",
            "\n",
            "See the caveats in the documentation: https://pandas.pydata.org/pandas-docs/stable/user_guide/indexing.html#returning-a-view-versus-a-copy\n",
            "/Users/cpelayofernandez/opt/anaconda3/lib/python3.8/site-packages/pandas/core/indexing.py:1765: SettingWithCopyWarning: \n",
            "A value is trying to be set on a copy of a slice from a DataFrame.\n",
            "Try using .loc[row_indexer,col_indexer] = value instead\n",
            "\n",
            "See the caveats in the documentation: https://pandas.pydata.org/pandas-docs/stable/user_guide/indexing.html#returning-a-view-versus-a-copy\n",
            "/Users/cpelayofernandez/opt/anaconda3/lib/python3.8/site-packages/pandas/core/frame.py:4317: SettingWithCopyWarning: \n",
            "A value is trying to be set on a copy of a slice from a DataFrame\n",
            "\n",
            "See the caveats in the documentation: https://pandas.pydata.org/pandas-docs/stable/user_guide/indexing.html#returning-a-view-versus-a-copy\n",
            "<ipython-input-40-b42cdfc345f0>:17: SettingWithCopyWarning: \n",
            "A value is trying to be set on a copy of a slice from a DataFrame.\n",
            "Try using .loc[row_indexer,col_indexer] = value instead\n",
            "\n",
            "See the caveats in the documentation: https://pandas.pydata.org/pandas-docs/stable/user_guide/indexing.html#returning-a-view-versus-a-copy\n"
          ]
        }
      ],
      "source": [
        "import numpy as np\n",
        "\n",
        "sr_df = pd.read_excel('Datasets/RegionInfo-2.xlsx', sheet_name='Regions')\n",
        "\n",
        "sr_df['Domains'] = sr_df['Policy'].str.findall(r'D\\.\\d+')\n",
        "sr_df.fillna(0, inplace=True)\n",
        "dominios = list(sr_df['Domains'])\n",
        "for i,d in enumerate(dominios):\n",
        "    if d==[]:\n",
        "        dominios[i]=0\n",
        "sr_df['Domains'] = dominios\n",
        "df_sel = sr_df[sr_df.Domains != 0] \n",
        "for index, row in df_sel.iterrows():\n",
        "    for d in row['Domains']:\n",
        "        df_sel.at[index,d] = 1\n",
        "df_sel.fillna(0, inplace=True)\n",
        "df_sel['nuts2'] = df_sel['NUTS Region'].str[:4]\n",
        "\n",
        "df_gr = df_sel.groupby(['nuts2']).sum().reset_index()\n",
        "gr = df_gr.to_numpy()\n",
        "gr_n = 1*(gr[:,1:]>0)\n",
        "gr[:,1:] = gr_n\n",
        "\n",
        "df_total = pd.DataFrame(gr,columns=list(df_gr.columns))\n",
        "\n",
        "df_nuts = df_total.melt(id_vars='nuts2', var_name='code')\n",
        "# Get market areas\n",
        "df_domain = pd.read_excel('Datasets/RegionInfo-2.xlsx', sheet_name='Domain')\n",
        "df_domain = df_domain[['code','area']]\n",
        "\n",
        "# Merge areas with nuts regions\n",
        "df_code = df_nuts.merge(df_domain, on='code', how = 'left')\n",
        "df_code = df_code[['nuts2','area','value']]\n",
        "\n",
        "# Sum repeated areas\n",
        "df_code1 = df_code.groupby(['nuts2','area']).sum().reset_index()\n",
        "df_code1['value'] = 1*(df_code1['value']>0)\n",
        "\n",
        "# Pivot table\n",
        "df_final = df_code1.pivot(index='nuts2', columns='area', values='value')\n",
        "df_final = df_final.reset_index()\n",
        "# df_final.columns = [\"nuts2\", \"AI\", \"Big Data\", \"Media & Communication\", \"Computation\", \"Cybersecurity\", \"IoT\", \"Internet\", \"Media & Communication\", \"Other\", \"Robotics\", \"SMEs\"]\n",
        "\n",
        "# Obtaining the areas of specialization of each region\n",
        "smart_regions = {}\n",
        "areas = list(df_final.columns)[1:]\n",
        "for i in df_final.index:\n",
        "    region = df_final[\"nuts2\"].iloc[i]\n",
        "    sr_areas = []\n",
        "    for area in areas:\n",
        "        if (area not in sr_areas) and (df_final.iloc[i][area] == 1):\n",
        "            if area == \"Computación\":\n",
        "                area = \"Computation\"\n",
        "            elif area == \"Media\" or area == \"Communication\":\n",
        "                area = \"Media & Communication\"\n",
        "            elif area == \"BigData\":\n",
        "                area = \"Big Data\"\n",
        "            elif area == \"Cybersec\":\n",
        "                area = \"Cybersecurity\"\n",
        "            elif area == \"Learning\":\n",
        "                area = \"Internet\"\n",
        "            sr_areas.append(area)\n",
        "    smart_regions[region] = sr_areas\n",
        "\n",
        "#adding 0s to EU regions that do not have any unicorn\n",
        "for r in regions: \n",
        "    if r not in smart_regions:\n",
        "        smart_regions[r] = 0\n",
        "\n",
        "#sorting list in alphabetical order\n",
        "smart_regions = {regions[i]:smart_regions[regions[i]] for i in range(len(regions))} \n",
        "\n",
        "#Using the data on smart regions to compute the mean between the existing value in each tech area for a region and 1 (if it is considered to ba a smart region)\n",
        "for region in smart_regions:\n",
        "    if smart_regions[region] != 0:\n",
        "        for sm_area in smart_regions[region]:\n",
        "            if sm_area != \"SMEs\":\n",
        "                num = market.loc[sm_area, region]\n",
        "                mean = (1 + num)/2\n",
        "                market.loc[sm_area, region] = (1 + num)/2"
      ]
    },
    {
      "cell_type": "markdown",
      "metadata": {
        "id": "FN9bVl0EXavP"
      },
      "source": [
        "# Final Appends"
      ]
    },
    {
      "cell_type": "code",
      "execution_count": null,
      "metadata": {
        "id": "q5zT_yAKXavP"
      },
      "outputs": [],
      "source": [
        "df = market\n",
        "\n",
        "# -----------------ELECTIVEs-------------------------\n",
        "\n",
        "#1) TECH AREA dimension\n",
        "\n",
        "#2) SME dimension\n",
        "df = df.append(smes_per_region, ignore_index = True)\n",
        "df = df.append(les_per_region, ignore_index = True)\n",
        "\n",
        "#3) TECH MATURITY dimension\n",
        "df = df.append(deeptech_per_region, ignore_index = True)\n",
        "df = df.append(development_per_region, ignore_index = True)\n",
        "df = df.append(integration_per_region, ignore_index = True)\n",
        "\n",
        "# -------------------NON-ELECTIVES----------------------(assumed the higher values, the better)\n",
        "\n",
        "#4) CAPITAL dimension\n",
        "df = df.append(grants_per_region, ignore_index = True)\n",
        "df = df.append(more_investment_per_region, ignore_index = True)\n",
        "df = df.append(val_unic_per_region, ignore_index = True)\n",
        "\n",
        "#5) HHRR dimension\n",
        "df = df.append(unis_per_region, ignore_index = True)\n",
        "df = df.append(hhrr_per_region, ignore_index = True)\n",
        "\n",
        "#6) INNOVATIVE ECOSYSTEM dimension\n",
        "df = df.append(networking_per_region, ignore_index = True)\n",
        "df = df.append(hubs_per_region, ignore_index = True)\n",
        "\n",
        "#7) GOVERNMENT\n",
        "df = df.append(legal_per_region, ignore_index = True)\n",
        "\n",
        "#8) INFRASTRUCTURE\n",
        "df = df.append(infrastructure_per_region, ignore_index = True)"
      ]
    },
    {
      "cell_type": "code",
      "execution_count": null,
      "metadata": {
        "id": "N15fxnQeXavQ"
      },
      "outputs": [],
      "source": [
        "#List of parameter names to set as indexes of the big dataframe\n",
        "tech_areas = list(total_per_area.keys())\n",
        "parameters = tech_areas\n",
        "parameters.extend([\"SMEs\",\n",
        "                   \"LEs\",\n",
        "                   \"Deep Tech\",\n",
        "                   \"Development\",\n",
        "                   \"Integration\",\n",
        "                   \"EU Grants\",\n",
        "                   \"Capital Investment\",\n",
        "                   \"Unicorns\",\n",
        "                   \"Universities\",\n",
        "                   \"HHRR\",\n",
        "                   \"Networking\",\n",
        "                   \"Tech Hubs\",   \n",
        "                   \"Government\", \n",
        "                   \"Infrastructure\"])\n",
        "\n",
        "#Changing index names and filling NaNs with 0's\n",
        "df.index = parameters\n",
        "df = df.fillna(0)\n",
        "df = df.T"
      ]
    },
    {
      "cell_type": "markdown",
      "metadata": {
        "id": "SHoTIuotXavQ"
      },
      "source": [
        "# Data Normalization"
      ]
    },
    {
      "cell_type": "markdown",
      "metadata": {
        "id": "mWC_SH_TXavQ"
      },
      "source": [
        "Normalization is applied to all the dimensions in the dataframe."
      ]
    },
    {
      "cell_type": "code",
      "execution_count": null,
      "metadata": {
        "scrolled": false,
        "id": "sbXkwr9yXavQ",
        "outputId": "542b3146-6148-48b5-b130-718e63e617b5"
      },
      "outputs": [
        {
          "data": {
            "text/html": [
              "<div>\n",
              "<style scoped>\n",
              "    .dataframe tbody tr th:only-of-type {\n",
              "        vertical-align: middle;\n",
              "    }\n",
              "\n",
              "    .dataframe tbody tr th {\n",
              "        vertical-align: top;\n",
              "    }\n",
              "\n",
              "    .dataframe thead th {\n",
              "        text-align: right;\n",
              "    }\n",
              "</style>\n",
              "<table border=\"1\" class=\"dataframe\">\n",
              "  <thead>\n",
              "    <tr style=\"text-align: right;\">\n",
              "      <th></th>\n",
              "      <th>AI</th>\n",
              "      <th>Big Data</th>\n",
              "      <th>Computation</th>\n",
              "      <th>Cybersecurity</th>\n",
              "      <th>Internet</th>\n",
              "      <th>IoT</th>\n",
              "      <th>Media &amp; Communication</th>\n",
              "      <th>Other</th>\n",
              "      <th>Robotics</th>\n",
              "      <th>Software</th>\n",
              "      <th>...</th>\n",
              "      <th>Integration</th>\n",
              "      <th>EU Grants</th>\n",
              "      <th>Capital Investment</th>\n",
              "      <th>Unicorns</th>\n",
              "      <th>Universities</th>\n",
              "      <th>HHRR</th>\n",
              "      <th>Networking</th>\n",
              "      <th>Tech Hubs</th>\n",
              "      <th>Government</th>\n",
              "      <th>Infrastructure</th>\n",
              "    </tr>\n",
              "  </thead>\n",
              "  <tbody>\n",
              "    <tr>\n",
              "      <th>AL02</th>\n",
              "      <td>0.000000</td>\n",
              "      <td>0.000000</td>\n",
              "      <td>0.000000</td>\n",
              "      <td>0.000000</td>\n",
              "      <td>0.000000</td>\n",
              "      <td>0.000000</td>\n",
              "      <td>0.000000</td>\n",
              "      <td>0.000853</td>\n",
              "      <td>0.000000</td>\n",
              "      <td>0.000000</td>\n",
              "      <td>...</td>\n",
              "      <td>0.000000</td>\n",
              "      <td>0.000694</td>\n",
              "      <td>0.509149</td>\n",
              "      <td>0.000000</td>\n",
              "      <td>0.008621</td>\n",
              "      <td>0.502475</td>\n",
              "      <td>0.002820</td>\n",
              "      <td>0.000000</td>\n",
              "      <td>0.652980</td>\n",
              "      <td>0.460481</td>\n",
              "    </tr>\n",
              "    <tr>\n",
              "      <th>AT11</th>\n",
              "      <td>0.000000</td>\n",
              "      <td>0.002644</td>\n",
              "      <td>0.000000</td>\n",
              "      <td>0.000000</td>\n",
              "      <td>0.000000</td>\n",
              "      <td>0.000000</td>\n",
              "      <td>0.000478</td>\n",
              "      <td>0.003413</td>\n",
              "      <td>0.000000</td>\n",
              "      <td>0.000000</td>\n",
              "      <td>...</td>\n",
              "      <td>0.266667</td>\n",
              "      <td>0.007451</td>\n",
              "      <td>0.860448</td>\n",
              "      <td>0.000000</td>\n",
              "      <td>0.021552</td>\n",
              "      <td>0.838700</td>\n",
              "      <td>0.045983</td>\n",
              "      <td>0.000000</td>\n",
              "      <td>0.816718</td>\n",
              "      <td>0.806059</td>\n",
              "    </tr>\n",
              "    <tr>\n",
              "      <th>AT12</th>\n",
              "      <td>0.000000</td>\n",
              "      <td>0.000000</td>\n",
              "      <td>0.000000</td>\n",
              "      <td>0.002878</td>\n",
              "      <td>0.000000</td>\n",
              "      <td>0.006452</td>\n",
              "      <td>0.000478</td>\n",
              "      <td>0.002560</td>\n",
              "      <td>0.006206</td>\n",
              "      <td>0.000000</td>\n",
              "      <td>...</td>\n",
              "      <td>0.882353</td>\n",
              "      <td>0.013019</td>\n",
              "      <td>0.860448</td>\n",
              "      <td>0.000000</td>\n",
              "      <td>0.008621</td>\n",
              "      <td>0.838700</td>\n",
              "      <td>0.027164</td>\n",
              "      <td>0.047619</td>\n",
              "      <td>0.816718</td>\n",
              "      <td>0.806059</td>\n",
              "    </tr>\n",
              "    <tr>\n",
              "      <th>AT13</th>\n",
              "      <td>0.024907</td>\n",
              "      <td>0.033047</td>\n",
              "      <td>0.022222</td>\n",
              "      <td>0.034532</td>\n",
              "      <td>0.012920</td>\n",
              "      <td>0.035484</td>\n",
              "      <td>0.010031</td>\n",
              "      <td>0.974257</td>\n",
              "      <td>0.021722</td>\n",
              "      <td>0.235294</td>\n",
              "      <td>...</td>\n",
              "      <td>0.530973</td>\n",
              "      <td>0.202224</td>\n",
              "      <td>0.860448</td>\n",
              "      <td>0.044001</td>\n",
              "      <td>0.241379</td>\n",
              "      <td>0.838700</td>\n",
              "      <td>0.383805</td>\n",
              "      <td>0.095238</td>\n",
              "      <td>0.816718</td>\n",
              "      <td>0.806059</td>\n",
              "    </tr>\n",
              "    <tr>\n",
              "      <th>AT21</th>\n",
              "      <td>0.000000</td>\n",
              "      <td>0.003966</td>\n",
              "      <td>0.005128</td>\n",
              "      <td>0.014388</td>\n",
              "      <td>0.002584</td>\n",
              "      <td>0.009677</td>\n",
              "      <td>0.000955</td>\n",
              "      <td>0.966719</td>\n",
              "      <td>0.003103</td>\n",
              "      <td>0.029412</td>\n",
              "      <td>...</td>\n",
              "      <td>0.850000</td>\n",
              "      <td>0.093085</td>\n",
              "      <td>0.860448</td>\n",
              "      <td>0.000000</td>\n",
              "      <td>0.043103</td>\n",
              "      <td>0.838700</td>\n",
              "      <td>0.157286</td>\n",
              "      <td>0.047619</td>\n",
              "      <td>0.816718</td>\n",
              "      <td>0.806059</td>\n",
              "    </tr>\n",
              "    <tr>\n",
              "      <th>...</th>\n",
              "      <td>...</td>\n",
              "      <td>...</td>\n",
              "      <td>...</td>\n",
              "      <td>...</td>\n",
              "      <td>...</td>\n",
              "      <td>...</td>\n",
              "      <td>...</td>\n",
              "      <td>...</td>\n",
              "      <td>...</td>\n",
              "      <td>...</td>\n",
              "      <td>...</td>\n",
              "      <td>...</td>\n",
              "      <td>...</td>\n",
              "      <td>...</td>\n",
              "      <td>...</td>\n",
              "      <td>...</td>\n",
              "      <td>...</td>\n",
              "      <td>...</td>\n",
              "      <td>...</td>\n",
              "      <td>...</td>\n",
              "      <td>...</td>\n",
              "    </tr>\n",
              "    <tr>\n",
              "      <th>UKM6</th>\n",
              "      <td>0.000000</td>\n",
              "      <td>0.000000</td>\n",
              "      <td>0.000000</td>\n",
              "      <td>0.000000</td>\n",
              "      <td>0.000000</td>\n",
              "      <td>0.000000</td>\n",
              "      <td>0.000000</td>\n",
              "      <td>0.000284</td>\n",
              "      <td>0.000000</td>\n",
              "      <td>0.000000</td>\n",
              "      <td>...</td>\n",
              "      <td>1.000000</td>\n",
              "      <td>0.000271</td>\n",
              "      <td>0.838909</td>\n",
              "      <td>0.000000</td>\n",
              "      <td>0.000000</td>\n",
              "      <td>0.811875</td>\n",
              "      <td>0.000460</td>\n",
              "      <td>0.000000</td>\n",
              "      <td>0.915967</td>\n",
              "      <td>0.953711</td>\n",
              "    </tr>\n",
              "    <tr>\n",
              "      <th>UKM7</th>\n",
              "      <td>0.027397</td>\n",
              "      <td>0.003966</td>\n",
              "      <td>0.010256</td>\n",
              "      <td>0.002878</td>\n",
              "      <td>0.005168</td>\n",
              "      <td>0.004839</td>\n",
              "      <td>0.003344</td>\n",
              "      <td>0.005689</td>\n",
              "      <td>0.018619</td>\n",
              "      <td>0.088235</td>\n",
              "      <td>...</td>\n",
              "      <td>0.246154</td>\n",
              "      <td>0.083004</td>\n",
              "      <td>0.838909</td>\n",
              "      <td>0.000000</td>\n",
              "      <td>0.172414</td>\n",
              "      <td>0.811875</td>\n",
              "      <td>0.054385</td>\n",
              "      <td>0.000000</td>\n",
              "      <td>0.915967</td>\n",
              "      <td>0.953711</td>\n",
              "    </tr>\n",
              "    <tr>\n",
              "      <th>UKM8</th>\n",
              "      <td>0.004981</td>\n",
              "      <td>0.005288</td>\n",
              "      <td>0.001709</td>\n",
              "      <td>0.000000</td>\n",
              "      <td>0.005168</td>\n",
              "      <td>0.001613</td>\n",
              "      <td>0.003821</td>\n",
              "      <td>0.005120</td>\n",
              "      <td>0.003103</td>\n",
              "      <td>0.000000</td>\n",
              "      <td>...</td>\n",
              "      <td>0.289474</td>\n",
              "      <td>0.044516</td>\n",
              "      <td>0.838909</td>\n",
              "      <td>0.000000</td>\n",
              "      <td>0.107759</td>\n",
              "      <td>0.811875</td>\n",
              "      <td>0.034761</td>\n",
              "      <td>0.000000</td>\n",
              "      <td>0.915967</td>\n",
              "      <td>0.953711</td>\n",
              "    </tr>\n",
              "    <tr>\n",
              "      <th>UKM9</th>\n",
              "      <td>0.000000</td>\n",
              "      <td>0.000000</td>\n",
              "      <td>0.000000</td>\n",
              "      <td>0.000000</td>\n",
              "      <td>0.002584</td>\n",
              "      <td>0.000000</td>\n",
              "      <td>0.000000</td>\n",
              "      <td>0.000284</td>\n",
              "      <td>0.000000</td>\n",
              "      <td>0.000000</td>\n",
              "      <td>...</td>\n",
              "      <td>1.000000</td>\n",
              "      <td>0.001509</td>\n",
              "      <td>0.838909</td>\n",
              "      <td>0.000000</td>\n",
              "      <td>0.000000</td>\n",
              "      <td>0.811875</td>\n",
              "      <td>0.001381</td>\n",
              "      <td>0.000000</td>\n",
              "      <td>0.915967</td>\n",
              "      <td>0.953711</td>\n",
              "    </tr>\n",
              "    <tr>\n",
              "      <th>UKN0</th>\n",
              "      <td>0.002491</td>\n",
              "      <td>0.000000</td>\n",
              "      <td>0.005128</td>\n",
              "      <td>0.002878</td>\n",
              "      <td>0.000000</td>\n",
              "      <td>0.000000</td>\n",
              "      <td>0.000000</td>\n",
              "      <td>0.000284</td>\n",
              "      <td>0.000000</td>\n",
              "      <td>0.058824</td>\n",
              "      <td>...</td>\n",
              "      <td>0.000000</td>\n",
              "      <td>0.012622</td>\n",
              "      <td>0.838909</td>\n",
              "      <td>0.000000</td>\n",
              "      <td>0.030172</td>\n",
              "      <td>0.811875</td>\n",
              "      <td>0.004029</td>\n",
              "      <td>0.000000</td>\n",
              "      <td>0.915967</td>\n",
              "      <td>0.953711</td>\n",
              "    </tr>\n",
              "  </tbody>\n",
              "</table>\n",
              "<p>280 rows × 24 columns</p>\n",
              "</div>"
            ],
            "text/plain": [
              "            AI  Big Data  Computation  Cybersecurity  Internet       IoT  \\\n",
              "AL02  0.000000  0.000000     0.000000       0.000000  0.000000  0.000000   \n",
              "AT11  0.000000  0.002644     0.000000       0.000000  0.000000  0.000000   \n",
              "AT12  0.000000  0.000000     0.000000       0.002878  0.000000  0.006452   \n",
              "AT13  0.024907  0.033047     0.022222       0.034532  0.012920  0.035484   \n",
              "AT21  0.000000  0.003966     0.005128       0.014388  0.002584  0.009677   \n",
              "...        ...       ...          ...            ...       ...       ...   \n",
              "UKM6  0.000000  0.000000     0.000000       0.000000  0.000000  0.000000   \n",
              "UKM7  0.027397  0.003966     0.010256       0.002878  0.005168  0.004839   \n",
              "UKM8  0.004981  0.005288     0.001709       0.000000  0.005168  0.001613   \n",
              "UKM9  0.000000  0.000000     0.000000       0.000000  0.002584  0.000000   \n",
              "UKN0  0.002491  0.000000     0.005128       0.002878  0.000000  0.000000   \n",
              "\n",
              "      Media & Communication     Other  Robotics  Software  ...  Integration  \\\n",
              "AL02               0.000000  0.000853  0.000000  0.000000  ...     0.000000   \n",
              "AT11               0.000478  0.003413  0.000000  0.000000  ...     0.266667   \n",
              "AT12               0.000478  0.002560  0.006206  0.000000  ...     0.882353   \n",
              "AT13               0.010031  0.974257  0.021722  0.235294  ...     0.530973   \n",
              "AT21               0.000955  0.966719  0.003103  0.029412  ...     0.850000   \n",
              "...                     ...       ...       ...       ...  ...          ...   \n",
              "UKM6               0.000000  0.000284  0.000000  0.000000  ...     1.000000   \n",
              "UKM7               0.003344  0.005689  0.018619  0.088235  ...     0.246154   \n",
              "UKM8               0.003821  0.005120  0.003103  0.000000  ...     0.289474   \n",
              "UKM9               0.000000  0.000284  0.000000  0.000000  ...     1.000000   \n",
              "UKN0               0.000000  0.000284  0.000000  0.058824  ...     0.000000   \n",
              "\n",
              "      EU Grants  Capital Investment  Unicorns  Universities      HHRR  \\\n",
              "AL02   0.000694            0.509149  0.000000      0.008621  0.502475   \n",
              "AT11   0.007451            0.860448  0.000000      0.021552  0.838700   \n",
              "AT12   0.013019            0.860448  0.000000      0.008621  0.838700   \n",
              "AT13   0.202224            0.860448  0.044001      0.241379  0.838700   \n",
              "AT21   0.093085            0.860448  0.000000      0.043103  0.838700   \n",
              "...         ...                 ...       ...           ...       ...   \n",
              "UKM6   0.000271            0.838909  0.000000      0.000000  0.811875   \n",
              "UKM7   0.083004            0.838909  0.000000      0.172414  0.811875   \n",
              "UKM8   0.044516            0.838909  0.000000      0.107759  0.811875   \n",
              "UKM9   0.001509            0.838909  0.000000      0.000000  0.811875   \n",
              "UKN0   0.012622            0.838909  0.000000      0.030172  0.811875   \n",
              "\n",
              "      Networking  Tech Hubs  Government  Infrastructure  \n",
              "AL02    0.002820   0.000000    0.652980        0.460481  \n",
              "AT11    0.045983   0.000000    0.816718        0.806059  \n",
              "AT12    0.027164   0.047619    0.816718        0.806059  \n",
              "AT13    0.383805   0.095238    0.816718        0.806059  \n",
              "AT21    0.157286   0.047619    0.816718        0.806059  \n",
              "...          ...        ...         ...             ...  \n",
              "UKM6    0.000460   0.000000    0.915967        0.953711  \n",
              "UKM7    0.054385   0.000000    0.915967        0.953711  \n",
              "UKM8    0.034761   0.000000    0.915967        0.953711  \n",
              "UKM9    0.001381   0.000000    0.915967        0.953711  \n",
              "UKN0    0.004029   0.000000    0.915967        0.953711  \n",
              "\n",
              "[280 rows x 24 columns]"
            ]
          },
          "execution_count": 43,
          "metadata": {},
          "output_type": "execute_result"
        }
      ],
      "source": [
        "def normalize(df):\n",
        "    ''' Normalización min-max'''\n",
        "    result = df.copy()\n",
        "    for feature_name in df.columns:\n",
        "        max_value = df[feature_name].max()\n",
        "        min_value = df[feature_name].min()\n",
        "        result[feature_name] = (df[feature_name] - min_value) / (max_value - min_value)\n",
        "    return result\n",
        "\n",
        "dfn = normalize(df)\n",
        "dfn"
      ]
    },
    {
      "cell_type": "markdown",
      "metadata": {
        "id": "XEJyLI9fXavQ"
      },
      "source": [
        "# Data Extraction\n",
        "Two datasets are needed to deploy the web application:\n",
        "- An Excel file of the data of the regions: name, code, geomtry, etc.\n",
        "- An Excel file of the resulting table containing the regional vectors is needed for deployment of the algorithm."
      ]
    },
    {
      "cell_type": "code",
      "execution_count": null,
      "metadata": {
        "scrolled": true,
        "id": "OTthk7-sXavQ",
        "outputId": "2a1d9dce-7ec9-4e1b-d275-e7c046939c3a"
      },
      "outputs": [
        {
          "name": "stderr",
          "output_type": "stream",
          "text": [
            "/Users/cpelayofernandez/opt/anaconda3/lib/python3.8/site-packages/pandas/core/frame.py:4296: SettingWithCopyWarning: \n",
            "A value is trying to be set on a copy of a slice from a DataFrame\n",
            "\n",
            "See the caveats in the documentation: https://pandas.pydata.org/pandas-docs/stable/user_guide/indexing.html#returning-a-view-versus-a-copy\n"
          ]
        }
      ],
      "source": [
        "nuts = gpd.read_file('Datasets/NUTS_RG_10M_2021_3035.json')\n",
        "nuts2 = nuts[nuts[\"LEVL_CODE\"]== 2]\n",
        "nuts2.rename(columns={\"id\":\"Region\", \"NUTS_NAME\":\"Region Name\"}, inplace=True)\n",
        "nuts2 = nuts2[[\"Region\", \"Region Name\", \"geometry\"]]  "
      ]
    },
    {
      "cell_type": "code",
      "execution_count": null,
      "metadata": {
        "scrolled": true,
        "id": "x6EeaPSxXavQ"
      },
      "outputs": [],
      "source": [
        "countries = {}\n",
        "for i in range(len(projects)):\n",
        "    reg = projects[\"NUTS 2 Code\"].iloc[i]\n",
        "    country = projects[\"Country\"].iloc[i]\n",
        "    if reg not in countries:\n",
        "        countries[reg] = country\n",
        "countries = pd.DataFrame(countries.items(), columns=[\"Region\", \"Country Name\"])\n",
        "nuts2 = pd.merge(nuts2, countries, on=\"Region\")"
      ]
    },
    {
      "cell_type": "code",
      "execution_count": null,
      "metadata": {
        "id": "-yUfJMTtXavQ"
      },
      "outputs": [],
      "source": [
        "nuts2.to_excel(\"Regional Info.xlsx\")\n",
        "dfn.to_excel(\"Regional Vectors.xlsx\")"
      ]
    },
    {
      "cell_type": "markdown",
      "metadata": {
        "id": "9Au_LoCCXavR"
      },
      "source": [
        "# MATCHMAKING ALGORITHM\n",
        "## STEP 1: Input Vector Configuration\n",
        "\n",
        "### Selected by the user (14 parameters): value of 0 (no) or 1 (yes)\n",
        "\n",
        "#### 1) Technological Area (10)\n",
        "- AI -> 0 or 1\n",
        "- Big Data -> 0 or 1\n",
        "- Computation -> 0 or 1\n",
        "- Cybersecurity -> 0 or 1\n",
        "- Internet -> 0 or 1\n",
        "- IoT -> 0 or 1\n",
        "- Media & Communication -> 0 or 1\n",
        "- Other -> 0 or 1\n",
        "- Robotics -> 0 or 1\n",
        "- Software -> 0 or 1\n",
        "\n",
        "#### 2) SME (1)\n",
        "- SMEs -> 0 or 1 (1 if the user belongs to a SME and 0 if it belongs to a large enterprise)\n",
        "- LEs -> not selected by the user (1 if the value of SME is 0, 0 otherwise)\n",
        "\n",
        "#### 3) Technological Maturity (3)\n",
        "- Deep Tech -> 0 or 1\n",
        "- Development -> 0 or 1\n",
        "- Integration -> 0 or 1\n",
        "\n",
        "### Non-selected by the user (9 parameters): assumed the higher values, the better)\n",
        "\n",
        "#### 4) Capital (3)\n",
        "- EU Grants -> [0,1]\n",
        "- Capital Investment -> [0,1]\n",
        "- Unicorns-> [0,1]\n",
        "\n",
        "#### 5) Human Resources (2)\n",
        "- Universities -> [0,1]\n",
        "- HHRR -> [0,1]\n",
        "\n",
        "#### 6) Innovative Ecosystem (2)\n",
        "- Networking -> [0,1]\n",
        "- Tech Hubs -> [0,1]\n",
        "\n",
        "#### 7) Government (1)\n",
        "- Government -> [0,1]\n",
        "\n",
        "#### 8) Technological Infrastructure (1)\n",
        "- Infrastructure -> [0,1]\n",
        "\n",
        "## STEP 2: Weights Selection\n",
        "For each of the 8 dimensions, a weight (0 to 1) will be selected, according to the importance that the user gives that dimension. If not specified, it will be assumed that all the dimensions have the same weight (1/8).\n",
        "\n",
        "## STEP 3: Matchmaking"
      ]
    },
    {
      "cell_type": "code",
      "execution_count": null,
      "metadata": {
        "id": "xsxRlEHNXavR",
        "outputId": "2dfe9faf-c666-48f8-e79f-b887112ff755"
      },
      "outputs": [
        {
          "data": {
            "text/plain": [
              "Index(['AI', 'Big Data', 'Computation', 'Cybersecurity', 'Internet', 'IoT',\n",
              "       'Media & Communication', 'Other', 'Robotics', 'Software', 'SMEs', 'LEs',\n",
              "       'Deep Tech', 'Development', 'Integration', 'EU Grants',\n",
              "       'Capital Investment', 'Unicorns', 'Universities', 'HHRR', 'Networking',\n",
              "       'Tech Hubs', 'Government', 'Infrastructure'],\n",
              "      dtype='object')"
            ]
          },
          "execution_count": 47,
          "metadata": {},
          "output_type": "execute_result"
        }
      ],
      "source": [
        "dfn.columns"
      ]
    },
    {
      "cell_type": "code",
      "execution_count": null,
      "metadata": {
        "id": "HngzZnVGXavR"
      },
      "outputs": [],
      "source": [
        "def recommendation(input_vector, weights = None):\n",
        "    \n",
        "    assert len(input_vector) == 14 #len(input_vector) must always be always 8 (1 value for each dimesion)\n",
        "    matur_input = input_vector[-3:]\n",
        "    input_vector.extend([0])\n",
        "    \n",
        "    if input_vector[10] == 1: #The user is a SME\n",
        "        input_vector[11] = 0\n",
        "        input_vector[-3:] = matur_input\n",
        "    else: #The user is a Large Enterprise\n",
        "        input_vector[11] = 1\n",
        "        input_vector[-3:] = matur_input\n",
        "    \n",
        "    good_vals = [1] * 9 #the remaining (non-elective parameters) will be considered to have a value of 1 (the greater, the better)\n",
        "    idx_yes = [i for i in range(len(input_vector)) if input_vector[i] == 1]\n",
        "    input_vector.extend(good_vals)\n",
        "\n",
        "#Assigning weights of importance to each dimension\n",
        "    if weights == None:\n",
        "        weights = [1/8] * 8 \n",
        "    assert len(weights) == 8 #len(weights_list) must always be always 8 (1 value for each dimesion)\n",
        "    assert sum(weights) == 1 #total weight needs to be 1\n",
        "    \n",
        "#Weighting the input and master dataframe\n",
        "    n_areas = sum(input_vector[:10])\n",
        "    n_matur = sum(input_vector[12:15])\n",
        "    \n",
        "    #Non-weighted input vector and dataframe converted to arrays\n",
        "    array = np.array(dfn)\n",
        "    input_array = np.array(input_vector)\n",
        "    \n",
        "    #Getting the complete weights\n",
        "    complete_weights = [0] * 24\n",
        "    \n",
        "    for i in range(len(weights)):\n",
        "        if i == 0: #Weight of tech areas\n",
        "            for j in range(10):\n",
        "                if j in idx_yes:\n",
        "                    complete_weights[j] = weights[0] / n_areas             \n",
        "        elif i == 1: #Weight of SME/LE\n",
        "            if input_vector[10] == 1:\n",
        "                complete_weights[10] = weights[1]\n",
        "                complete_weights[11] = 0\n",
        "            else:\n",
        "                complete_weights[10] = 0\n",
        "                complete_weights[11] = weights[1]\n",
        "        elif i == 2: #Weight of tech maturity\n",
        "            for j in range(12,15):\n",
        "                if j in idx_yes:\n",
        "                    complete_weights[j] = weights[2] / n_matur \n",
        "        elif i == 3: #Weight of capital\n",
        "            complete_weights[15:18] = [weights[3] / 3] * 3                                   \n",
        "        elif i == 4: #Weight of hhrr\n",
        "            complete_weights[18:20] = [weights[4] / 2] * 2 \n",
        "        elif i == 5: #Weight of innovative ecosystem\n",
        "            complete_weights[20:22] = [weights[5] / 2] * 2 \n",
        "        elif i == 6:\n",
        "            complete_weights[22] = weights[6]\n",
        "        elif i == 7:\n",
        "            complete_weights[23] = weights[7]\n",
        "    \n",
        "    #Weighting\n",
        "    weights_array = np.array(complete_weights).reshape(1, -1)\n",
        "    weighted_regions = array * weights_array\n",
        "    weighted_input = (input_array * weights_array)\n",
        "    print(weighted_regions.shape)\n",
        "    print(weighted_input.shape)\n",
        "    print(weighted_regions[:,0])\n",
        "    print(weighted_input)\n",
        "    \n",
        "    #Matchmaking (using cosine distances)\n",
        "    distances = (1 - distance.cdist(weighted_regions, weighted_input, 'cosine')) * 100 \n",
        "    match = pd.DataFrame(distances)\n",
        "    match[\"Region\"] = regions\n",
        "    match.columns = [\"Score\", \"Region\"]\n",
        "    match = match.sort_values(by = 'Score', ascending=False, ignore_index=True)\n",
        "    match = pd.merge(match, nuts2, on=\"Region\")\n",
        "    match = match[[\"Score\", \"Region Name\", \"Country Name\" ]]\n",
        "    match = match.fillna(0)\n",
        "    \n",
        "    return match #[match[\"Score\"] != 0]"
      ]
    },
    {
      "cell_type": "code",
      "execution_count": null,
      "metadata": {
        "scrolled": true,
        "id": "39H3mJEJXavR",
        "outputId": "f3575f51-decd-4b2a-ce42-7fa99d07f4ca"
      },
      "outputs": [
        {
          "name": "stdout",
          "output_type": "stream",
          "text": [
            "(280, 24)\n",
            "(1, 24)\n",
            "[0. 0. 0. 0. 0. 0. 0. 0. 0. 0. 0. 0. 0. 0. 0. 0. 0. 0. 0. 0. 0. 0. 0. 0.\n",
            " 0. 0. 0. 0. 0. 0. 0. 0. 0. 0. 0. 0. 0. 0. 0. 0. 0. 0. 0. 0. 0. 0. 0. 0.\n",
            " 0. 0. 0. 0. 0. 0. 0. 0. 0. 0. 0. 0. 0. 0. 0. 0. 0. 0. 0. 0. 0. 0. 0. 0.\n",
            " 0. 0. 0. 0. 0. 0. 0. 0. 0. 0. 0. 0. 0. 0. 0. 0. 0. 0. 0. 0. 0. 0. 0. 0.\n",
            " 0. 0. 0. 0. 0. 0. 0. 0. 0. 0. 0. 0. 0. 0. 0. 0. 0. 0. 0. 0. 0. 0. 0. 0.\n",
            " 0. 0. 0. 0. 0. 0. 0. 0. 0. 0. 0. 0. 0. 0. 0. 0. 0. 0. 0. 0. 0. 0. 0. 0.\n",
            " 0. 0. 0. 0. 0. 0. 0. 0. 0. 0. 0. 0. 0. 0. 0. 0. 0. 0. 0. 0. 0. 0. 0. 0.\n",
            " 0. 0. 0. 0. 0. 0. 0. 0. 0. 0. 0. 0. 0. 0. 0. 0. 0. 0. 0. 0. 0. 0. 0. 0.\n",
            " 0. 0. 0. 0. 0. 0. 0. 0. 0. 0. 0. 0. 0. 0. 0. 0. 0. 0. 0. 0. 0. 0. 0. 0.\n",
            " 0. 0. 0. 0. 0. 0. 0. 0. 0. 0. 0. 0. 0. 0. 0. 0. 0. 0. 0. 0. 0. 0. 0. 0.\n",
            " 0. 0. 0. 0. 0. 0. 0. 0. 0. 0. 0. 0. 0. 0. 0. 0. 0. 0. 0. 0. 0. 0. 0. 0.\n",
            " 0. 0. 0. 0. 0. 0. 0. 0. 0. 0. 0. 0. 0. 0. 0. 0.]\n",
            "[[0.         0.         0.         0.         0.         0.\n",
            "  0.         0.         0.         0.         0.         0.\n",
            "  0.         0.         0.         0.06666667 0.06666667 0.06666667\n",
            "  0.1        0.1        0.1        0.1        0.2        0.2       ]]\n"
          ]
        },
        {
          "data": {
            "text/html": [
              "<div>\n",
              "<style scoped>\n",
              "    .dataframe tbody tr th:only-of-type {\n",
              "        vertical-align: middle;\n",
              "    }\n",
              "\n",
              "    .dataframe tbody tr th {\n",
              "        vertical-align: top;\n",
              "    }\n",
              "\n",
              "    .dataframe thead th {\n",
              "        text-align: right;\n",
              "    }\n",
              "</style>\n",
              "<table border=\"1\" class=\"dataframe\">\n",
              "  <thead>\n",
              "    <tr style=\"text-align: right;\">\n",
              "      <th></th>\n",
              "      <th>Score</th>\n",
              "      <th>Region Name</th>\n",
              "      <th>Country Name</th>\n",
              "    </tr>\n",
              "  </thead>\n",
              "  <tbody>\n",
              "    <tr>\n",
              "      <th>0</th>\n",
              "      <td>97.042495</td>\n",
              "      <td>Ile-de-France</td>\n",
              "      <td>France</td>\n",
              "    </tr>\n",
              "    <tr>\n",
              "      <th>1</th>\n",
              "      <td>96.909631</td>\n",
              "      <td>Aττική</td>\n",
              "      <td>Greece</td>\n",
              "    </tr>\n",
              "    <tr>\n",
              "      <th>2</th>\n",
              "      <td>95.400569</td>\n",
              "      <td>Dresden</td>\n",
              "      <td>Germany</td>\n",
              "    </tr>\n",
              "    <tr>\n",
              "      <th>3</th>\n",
              "      <td>95.223236</td>\n",
              "      <td>Comunidad de Madrid</td>\n",
              "      <td>Spain</td>\n",
              "    </tr>\n",
              "    <tr>\n",
              "      <th>4</th>\n",
              "      <td>95.114618</td>\n",
              "      <td>Noord-Brabant</td>\n",
              "      <td>Netherlands</td>\n",
              "    </tr>\n",
              "    <tr>\n",
              "      <th>...</th>\n",
              "      <td>...</td>\n",
              "      <td>...</td>\n",
              "      <td>...</td>\n",
              "    </tr>\n",
              "    <tr>\n",
              "      <th>274</th>\n",
              "      <td>29.952258</td>\n",
              "      <td>Střední Morava</td>\n",
              "      <td>Czechia</td>\n",
              "    </tr>\n",
              "    <tr>\n",
              "      <th>275</th>\n",
              "      <td>29.253371</td>\n",
              "      <td>Střední Čechy</td>\n",
              "      <td>Czechia</td>\n",
              "    </tr>\n",
              "    <tr>\n",
              "      <th>276</th>\n",
              "      <td>28.786232</td>\n",
              "      <td>Severozápad</td>\n",
              "      <td>Czechia</td>\n",
              "    </tr>\n",
              "    <tr>\n",
              "      <th>277</th>\n",
              "      <td>28.635742</td>\n",
              "      <td>Manisa, Afyonkarahisar, Kütahya, Uşak</td>\n",
              "      <td>Turkey</td>\n",
              "    </tr>\n",
              "    <tr>\n",
              "      <th>278</th>\n",
              "      <td>27.386128</td>\n",
              "      <td>Liechtenstein</td>\n",
              "      <td>Liechtenstein</td>\n",
              "    </tr>\n",
              "  </tbody>\n",
              "</table>\n",
              "<p>279 rows × 3 columns</p>\n",
              "</div>"
            ],
            "text/plain": [
              "         Score                            Region Name   Country Name\n",
              "0    97.042495                          Ile-de-France         France\n",
              "1    96.909631                                 Aττική         Greece\n",
              "2    95.400569                                Dresden        Germany\n",
              "3    95.223236                    Comunidad de Madrid          Spain\n",
              "4    95.114618                          Noord-Brabant    Netherlands\n",
              "..         ...                                    ...            ...\n",
              "274  29.952258                         Střední Morava        Czechia\n",
              "275  29.253371                          Střední Čechy        Czechia\n",
              "276  28.786232                            Severozápad        Czechia\n",
              "277  28.635742  Manisa, Afyonkarahisar, Kütahya, Uşak         Turkey\n",
              "278  27.386128                          Liechtenstein  Liechtenstein\n",
              "\n",
              "[279 rows x 3 columns]"
            ]
          },
          "execution_count": 87,
          "metadata": {},
          "output_type": "execute_result"
        }
      ],
      "source": [
        "#Test Scenario 1\n",
        "selection = [1,1,0,0,1,0,0,0,0,1,0,1,0,0]\n",
        "weights = [0,0,0,0.2,0.2,0.2,0.2,0.2]\n",
        "recommendation(selection,weights)\n",
        "\n",
        "#Consistent with Streamlit"
      ]
    },
    {
      "cell_type": "code",
      "execution_count": null,
      "metadata": {
        "scrolled": true,
        "id": "BM6isxJ6XavR",
        "outputId": "d5c14610-bb48-489f-cdb3-3a2f1ccf4bcb"
      },
      "outputs": [
        {
          "data": {
            "text/html": [
              "<div>\n",
              "<style scoped>\n",
              "    .dataframe tbody tr th:only-of-type {\n",
              "        vertical-align: middle;\n",
              "    }\n",
              "\n",
              "    .dataframe tbody tr th {\n",
              "        vertical-align: top;\n",
              "    }\n",
              "\n",
              "    .dataframe thead th {\n",
              "        text-align: right;\n",
              "    }\n",
              "</style>\n",
              "<table border=\"1\" class=\"dataframe\">\n",
              "  <thead>\n",
              "    <tr style=\"text-align: right;\">\n",
              "      <th></th>\n",
              "      <th>Score</th>\n",
              "      <th>Region Name</th>\n",
              "      <th>Country Name</th>\n",
              "    </tr>\n",
              "  </thead>\n",
              "  <tbody>\n",
              "    <tr>\n",
              "      <th>0</th>\n",
              "      <td>99.719148</td>\n",
              "      <td>Dresden</td>\n",
              "      <td>Germany</td>\n",
              "    </tr>\n",
              "    <tr>\n",
              "      <th>1</th>\n",
              "      <td>99.266100</td>\n",
              "      <td>Lombardia</td>\n",
              "      <td>Italy</td>\n",
              "    </tr>\n",
              "    <tr>\n",
              "      <th>2</th>\n",
              "      <td>98.392363</td>\n",
              "      <td>Emilia-Romagna</td>\n",
              "      <td>Italy</td>\n",
              "    </tr>\n",
              "    <tr>\n",
              "      <th>3</th>\n",
              "      <td>98.103877</td>\n",
              "      <td>Aττική</td>\n",
              "      <td>Greece</td>\n",
              "    </tr>\n",
              "    <tr>\n",
              "      <th>4</th>\n",
              "      <td>97.958091</td>\n",
              "      <td>Comunidad de Madrid</td>\n",
              "      <td>Spain</td>\n",
              "    </tr>\n",
              "    <tr>\n",
              "      <th>...</th>\n",
              "      <td>...</td>\n",
              "      <td>...</td>\n",
              "      <td>...</td>\n",
              "    </tr>\n",
              "    <tr>\n",
              "      <th>267</th>\n",
              "      <td>70.710678</td>\n",
              "      <td>Malta</td>\n",
              "      <td>Malta</td>\n",
              "    </tr>\n",
              "    <tr>\n",
              "      <th>268</th>\n",
              "      <td>70.710678</td>\n",
              "      <td>Sud-Est</td>\n",
              "      <td>Romania</td>\n",
              "    </tr>\n",
              "    <tr>\n",
              "      <th>269</th>\n",
              "      <td>70.710678</td>\n",
              "      <td>Црна Гора</td>\n",
              "      <td>Montenegro</td>\n",
              "    </tr>\n",
              "    <tr>\n",
              "      <th>270</th>\n",
              "      <td>70.710678</td>\n",
              "      <td>Южен централен</td>\n",
              "      <td>Bulgaria</td>\n",
              "    </tr>\n",
              "    <tr>\n",
              "      <th>271</th>\n",
              "      <td>70.710678</td>\n",
              "      <td>Gießen</td>\n",
              "      <td>Germany</td>\n",
              "    </tr>\n",
              "  </tbody>\n",
              "</table>\n",
              "<p>272 rows × 3 columns</p>\n",
              "</div>"
            ],
            "text/plain": [
              "         Score          Region Name Country Name\n",
              "0    99.719148              Dresden      Germany\n",
              "1    99.266100            Lombardia        Italy\n",
              "2    98.392363       Emilia-Romagna        Italy\n",
              "3    98.103877               Aττική       Greece\n",
              "4    97.958091  Comunidad de Madrid        Spain\n",
              "..         ...                  ...          ...\n",
              "267  70.710678                Malta        Malta\n",
              "268  70.710678              Sud-Est      Romania\n",
              "269  70.710678            Црна Гора   Montenegro\n",
              "270  70.710678       Южен централен     Bulgaria\n",
              "271  70.710678               Gießen      Germany\n",
              "\n",
              "[272 rows x 3 columns]"
            ]
          },
          "execution_count": 69,
          "metadata": {},
          "output_type": "execute_result"
        }
      ],
      "source": [
        "#Test Scenario 2\n",
        "selection = [1,0,0,0,0,0,0,0,0,0,0,1,0,0]\n",
        "weights = [0,0,0,0,1,0,0,0]\n",
        "recommendation(selection, weights)"
      ]
    },
    {
      "cell_type": "code",
      "execution_count": null,
      "metadata": {
        "scrolled": true,
        "id": "Pkj5emw_XavR",
        "outputId": "90512e50-3147-48a5-af82-9a6d9f580e5c"
      },
      "outputs": [
        {
          "data": {
            "text/html": [
              "<div>\n",
              "<style scoped>\n",
              "    .dataframe tbody tr th:only-of-type {\n",
              "        vertical-align: middle;\n",
              "    }\n",
              "\n",
              "    .dataframe tbody tr th {\n",
              "        vertical-align: top;\n",
              "    }\n",
              "\n",
              "    .dataframe thead th {\n",
              "        text-align: right;\n",
              "    }\n",
              "</style>\n",
              "<table border=\"1\" class=\"dataframe\">\n",
              "  <thead>\n",
              "    <tr style=\"text-align: right;\">\n",
              "      <th></th>\n",
              "      <th>Score</th>\n",
              "      <th>Region Name</th>\n",
              "      <th>Country Name</th>\n",
              "    </tr>\n",
              "  </thead>\n",
              "  <tbody>\n",
              "    <tr>\n",
              "      <th>0</th>\n",
              "      <td>96.906433</td>\n",
              "      <td>Sydsverige</td>\n",
              "      <td>Sweden</td>\n",
              "    </tr>\n",
              "    <tr>\n",
              "      <th>1</th>\n",
              "      <td>95.362326</td>\n",
              "      <td>Pohjois- ja Itä-Suomi</td>\n",
              "      <td>Finland</td>\n",
              "    </tr>\n",
              "    <tr>\n",
              "      <th>2</th>\n",
              "      <td>95.099118</td>\n",
              "      <td>Östra Mellansverige</td>\n",
              "      <td>Sweden</td>\n",
              "    </tr>\n",
              "    <tr>\n",
              "      <th>3</th>\n",
              "      <td>94.168000</td>\n",
              "      <td>Rhône-Alpes</td>\n",
              "      <td>France</td>\n",
              "    </tr>\n",
              "    <tr>\n",
              "      <th>4</th>\n",
              "      <td>94.026688</td>\n",
              "      <td>Emilia-Romagna</td>\n",
              "      <td>Italy</td>\n",
              "    </tr>\n",
              "    <tr>\n",
              "      <th>...</th>\n",
              "      <td>...</td>\n",
              "      <td>...</td>\n",
              "      <td>...</td>\n",
              "    </tr>\n",
              "    <tr>\n",
              "      <th>232</th>\n",
              "      <td>70.710678</td>\n",
              "      <td>Małopolskie</td>\n",
              "      <td>Poland</td>\n",
              "    </tr>\n",
              "    <tr>\n",
              "      <th>233</th>\n",
              "      <td>70.710678</td>\n",
              "      <td>Nord-Norge</td>\n",
              "      <td>Norway</td>\n",
              "    </tr>\n",
              "    <tr>\n",
              "      <th>234</th>\n",
              "      <td>70.710678</td>\n",
              "      <td>Πελοπόννησος</td>\n",
              "      <td>Greece</td>\n",
              "    </tr>\n",
              "    <tr>\n",
              "      <th>235</th>\n",
              "      <td>70.710678</td>\n",
              "      <td>Limburg (NL)</td>\n",
              "      <td>Netherlands</td>\n",
              "    </tr>\n",
              "    <tr>\n",
              "      <th>236</th>\n",
              "      <td>70.710678</td>\n",
              "      <td>Qender</td>\n",
              "      <td>Albania</td>\n",
              "    </tr>\n",
              "  </tbody>\n",
              "</table>\n",
              "<p>237 rows × 3 columns</p>\n",
              "</div>"
            ],
            "text/plain": [
              "         Score            Region Name Country Name\n",
              "0    96.906433             Sydsverige       Sweden\n",
              "1    95.362326  Pohjois- ja Itä-Suomi      Finland\n",
              "2    95.099118    Östra Mellansverige       Sweden\n",
              "3    94.168000            Rhône-Alpes       France\n",
              "4    94.026688         Emilia-Romagna        Italy\n",
              "..         ...                    ...          ...\n",
              "232  70.710678            Małopolskie       Poland\n",
              "233  70.710678             Nord-Norge       Norway\n",
              "234  70.710678           Πελοπόννησος       Greece\n",
              "235  70.710678           Limburg (NL)  Netherlands\n",
              "236  70.710678                 Qender      Albania\n",
              "\n",
              "[237 rows x 3 columns]"
            ]
          },
          "execution_count": 70,
          "metadata": {},
          "output_type": "execute_result"
        }
      ],
      "source": [
        "#Test Scenario 3\n",
        "selection = [1,0,0,0,0,0,0,0,0,0,0,1,0,0]\n",
        "weights = [0.5,0,0.5,0,0,0,0,0]\n",
        "recommendation(selection,weights)"
      ]
    },
    {
      "cell_type": "code",
      "execution_count": null,
      "metadata": {
        "scrolled": true,
        "id": "bCYXn8jZXavS",
        "outputId": "e40c1dd4-1349-4610-96f7-a773088a8b01"
      },
      "outputs": [
        {
          "data": {
            "text/html": [
              "<div>\n",
              "<style scoped>\n",
              "    .dataframe tbody tr th:only-of-type {\n",
              "        vertical-align: middle;\n",
              "    }\n",
              "\n",
              "    .dataframe tbody tr th {\n",
              "        vertical-align: top;\n",
              "    }\n",
              "\n",
              "    .dataframe thead th {\n",
              "        text-align: right;\n",
              "    }\n",
              "</style>\n",
              "<table border=\"1\" class=\"dataframe\">\n",
              "  <thead>\n",
              "    <tr style=\"text-align: right;\">\n",
              "      <th></th>\n",
              "      <th>Score</th>\n",
              "      <th>Region Name</th>\n",
              "      <th>Country Name</th>\n",
              "    </tr>\n",
              "  </thead>\n",
              "  <tbody>\n",
              "    <tr>\n",
              "      <th>0</th>\n",
              "      <td>98.107828</td>\n",
              "      <td>Ile-de-France</td>\n",
              "      <td>France</td>\n",
              "    </tr>\n",
              "    <tr>\n",
              "      <th>1</th>\n",
              "      <td>97.441213</td>\n",
              "      <td>Inner London — West</td>\n",
              "      <td>United Kingdom</td>\n",
              "    </tr>\n",
              "    <tr>\n",
              "      <th>2</th>\n",
              "      <td>96.640051</td>\n",
              "      <td>Oberbayern</td>\n",
              "      <td>Germany</td>\n",
              "    </tr>\n",
              "    <tr>\n",
              "      <th>3</th>\n",
              "      <td>95.755120</td>\n",
              "      <td>Comunidad de Madrid</td>\n",
              "      <td>Spain</td>\n",
              "    </tr>\n",
              "    <tr>\n",
              "      <th>4</th>\n",
              "      <td>95.746434</td>\n",
              "      <td>Lombardia</td>\n",
              "      <td>Italy</td>\n",
              "    </tr>\n",
              "    <tr>\n",
              "      <th>...</th>\n",
              "      <td>...</td>\n",
              "      <td>...</td>\n",
              "      <td>...</td>\n",
              "    </tr>\n",
              "    <tr>\n",
              "      <th>273</th>\n",
              "      <td>28.867513</td>\n",
              "      <td>Střední Čechy</td>\n",
              "      <td>Czechia</td>\n",
              "    </tr>\n",
              "    <tr>\n",
              "      <th>274</th>\n",
              "      <td>28.867513</td>\n",
              "      <td>Jihozápad</td>\n",
              "      <td>Czechia</td>\n",
              "    </tr>\n",
              "    <tr>\n",
              "      <th>275</th>\n",
              "      <td>28.867513</td>\n",
              "      <td>Malta</td>\n",
              "      <td>Malta</td>\n",
              "    </tr>\n",
              "    <tr>\n",
              "      <th>276</th>\n",
              "      <td>28.867513</td>\n",
              "      <td>Црна Гора</td>\n",
              "      <td>Montenegro</td>\n",
              "    </tr>\n",
              "    <tr>\n",
              "      <th>277</th>\n",
              "      <td>28.867513</td>\n",
              "      <td>Bursa, Eskişehir, Bilecik</td>\n",
              "      <td>Turkey</td>\n",
              "    </tr>\n",
              "  </tbody>\n",
              "</table>\n",
              "<p>278 rows × 3 columns</p>\n",
              "</div>"
            ],
            "text/plain": [
              "         Score                Region Name    Country Name\n",
              "0    98.107828              Ile-de-France          France\n",
              "1    97.441213        Inner London — West  United Kingdom\n",
              "2    96.640051                 Oberbayern         Germany\n",
              "3    95.755120        Comunidad de Madrid           Spain\n",
              "4    95.746434                  Lombardia           Italy\n",
              "..         ...                        ...             ...\n",
              "273  28.867513              Střední Čechy         Czechia\n",
              "274  28.867513                  Jihozápad         Czechia\n",
              "275  28.867513                      Malta           Malta\n",
              "276  28.867513                  Црна Гора      Montenegro\n",
              "277  28.867513  Bursa, Eskişehir, Bilecik          Turkey\n",
              "\n",
              "[278 rows x 3 columns]"
            ]
          },
          "execution_count": 71,
          "metadata": {},
          "output_type": "execute_result"
        }
      ],
      "source": [
        "#Test Scenario 4\n",
        "selection = [1,0,0,0,0,0,0,0,0,0,1,1,0,0]\n",
        "weights = [0,0,0,0.5,0,0,0.5,0]\n",
        "recommendation(selection,weights)"
      ]
    },
    {
      "cell_type": "code",
      "execution_count": null,
      "metadata": {
        "id": "cyYgNoj6XavS",
        "outputId": "706d306d-0b07-4a56-81e8-2aa4dc2398e3"
      },
      "outputs": [
        {
          "data": {
            "text/html": [
              "<div>\n",
              "<style scoped>\n",
              "    .dataframe tbody tr th:only-of-type {\n",
              "        vertical-align: middle;\n",
              "    }\n",
              "\n",
              "    .dataframe tbody tr th {\n",
              "        vertical-align: top;\n",
              "    }\n",
              "\n",
              "    .dataframe thead th {\n",
              "        text-align: right;\n",
              "    }\n",
              "</style>\n",
              "<table border=\"1\" class=\"dataframe\">\n",
              "  <thead>\n",
              "    <tr style=\"text-align: right;\">\n",
              "      <th></th>\n",
              "      <th>Score</th>\n",
              "      <th>Region Name</th>\n",
              "      <th>Country Name</th>\n",
              "    </tr>\n",
              "  </thead>\n",
              "  <tbody>\n",
              "    <tr>\n",
              "      <th>0</th>\n",
              "      <td>99.950963</td>\n",
              "      <td>Gelderland</td>\n",
              "      <td>Netherlands</td>\n",
              "    </tr>\n",
              "    <tr>\n",
              "      <th>1</th>\n",
              "      <td>99.903302</td>\n",
              "      <td>Région de Bruxelles-Capitale/ Brussels Hoofdst...</td>\n",
              "      <td>Belgium</td>\n",
              "    </tr>\n",
              "    <tr>\n",
              "      <th>2</th>\n",
              "      <td>99.801297</td>\n",
              "      <td>Thüringen</td>\n",
              "      <td>Germany</td>\n",
              "    </tr>\n",
              "    <tr>\n",
              "      <th>3</th>\n",
              "      <td>99.793566</td>\n",
              "      <td>Länsi-Suomi</td>\n",
              "      <td>Finland</td>\n",
              "    </tr>\n",
              "    <tr>\n",
              "      <th>4</th>\n",
              "      <td>99.706917</td>\n",
              "      <td>Nordjylland</td>\n",
              "      <td>Denmark</td>\n",
              "    </tr>\n",
              "    <tr>\n",
              "      <th>...</th>\n",
              "      <td>...</td>\n",
              "      <td>...</td>\n",
              "      <td>...</td>\n",
              "    </tr>\n",
              "    <tr>\n",
              "      <th>274</th>\n",
              "      <td>40.824829</td>\n",
              "      <td>Регион Шумадије и Западне Србије</td>\n",
              "      <td>Serbia</td>\n",
              "    </tr>\n",
              "    <tr>\n",
              "      <th>275</th>\n",
              "      <td>40.824829</td>\n",
              "      <td>Trier</td>\n",
              "      <td>Germany</td>\n",
              "    </tr>\n",
              "    <tr>\n",
              "      <th>276</th>\n",
              "      <td>40.824829</td>\n",
              "      <td>Západné Slovensko</td>\n",
              "      <td>Slovakia</td>\n",
              "    </tr>\n",
              "    <tr>\n",
              "      <th>277</th>\n",
              "      <td>40.824829</td>\n",
              "      <td>Kocaeli, Sakarya, Düzce, Bolu, Yalova</td>\n",
              "      <td>Turkey</td>\n",
              "    </tr>\n",
              "    <tr>\n",
              "      <th>278</th>\n",
              "      <td>40.824829</td>\n",
              "      <td>Northern Ireland</td>\n",
              "      <td>United Kingdom</td>\n",
              "    </tr>\n",
              "  </tbody>\n",
              "</table>\n",
              "<p>279 rows × 3 columns</p>\n",
              "</div>"
            ],
            "text/plain": [
              "         Score                                        Region Name  \\\n",
              "0    99.950963                                         Gelderland   \n",
              "1    99.903302  Région de Bruxelles-Capitale/ Brussels Hoofdst...   \n",
              "2    99.801297                                          Thüringen   \n",
              "3    99.793566                                        Länsi-Suomi   \n",
              "4    99.706917                                        Nordjylland   \n",
              "..         ...                                                ...   \n",
              "274  40.824829                   Регион Шумадије и Западне Србије   \n",
              "275  40.824829                                              Trier   \n",
              "276  40.824829                                  Západné Slovensko   \n",
              "277  40.824829              Kocaeli, Sakarya, Düzce, Bolu, Yalova   \n",
              "278  40.824829                                   Northern Ireland   \n",
              "\n",
              "       Country Name  \n",
              "0       Netherlands  \n",
              "1           Belgium  \n",
              "2           Germany  \n",
              "3           Finland  \n",
              "4           Denmark  \n",
              "..              ...  \n",
              "274          Serbia  \n",
              "275         Germany  \n",
              "276        Slovakia  \n",
              "277          Turkey  \n",
              "278  United Kingdom  \n",
              "\n",
              "[279 rows x 3 columns]"
            ]
          },
          "execution_count": 72,
          "metadata": {},
          "output_type": "execute_result"
        }
      ],
      "source": [
        "#Test Scenario 5\n",
        "selection = [1,0,0,0,0,0,0,0,0,0,1,1,0,0]\n",
        "weights = [0,0.5,0,0,0,0.5,0,0]\n",
        "recommendation(selection,weights)"
      ]
    },
    {
      "cell_type": "code",
      "execution_count": null,
      "metadata": {
        "scrolled": true,
        "id": "F8LtvVsqXavS",
        "outputId": "d3a13f59-8f7c-455f-eedc-c313b172a196"
      },
      "outputs": [
        {
          "name": "stdout",
          "output_type": "stream",
          "text": [
            "(280, 24)\n",
            "(1, 24)\n",
            "[0.         0.         0.         0.0249066  0.         0.0124533\n",
            " 0.00996264 0.         0.         0.         0.03486924 0.00498132\n",
            " 0.         0.         0.00996264 0.         0.         0.\n",
            " 0.00498132 0.         0.         0.         0.00249066 0.\n",
            " 0.02739726 0.00498132 0.00747198 0.00996264 0.         0.\n",
            " 0.00498132 0.00249066 0.03486924 0.         0.         0.\n",
            " 0.         0.00498132 0.         0.         0.00498132 0.0124533\n",
            " 0.         0.0124533  0.0373599  0.00249066 0.         0.\n",
            " 0.         0.00249066 0.00747198 0.0124533  0.00747198 0.\n",
            " 0.00249066 0.         0.         0.         0.         0.00747198\n",
            " 0.         0.         0.00498132 0.00498132 0.0249066  0.00249066\n",
            " 0.00498132 0.         0.         0.         0.03486924 0.\n",
            " 0.07222914 0.         0.         0.         0.         0.\n",
            " 0.01992528 0.         0.93524284 0.         0.         0.0124533\n",
            " 0.05977584 0.         0.         0.00747198 0.         0.02739726\n",
            " 0.         0.         0.         0.00249066 0.00747198 0.00249066\n",
            " 0.         0.93524284 0.00249066 0.         0.0249066  0.00249066\n",
            " 0.         0.00747198 0.97135741 0.0124533  0.         0.\n",
            " 0.05230386 0.03486924 0.         0.00249066 0.00249066 0.\n",
            " 0.         0.9501868  0.93524284 0.93524284 1.         0.00249066\n",
            " 0.         0.         0.         0.         0.00249066 0.00249066\n",
            " 0.         0.         0.01494396 0.         0.00996264 0.\n",
            " 0.         0.00249066 0.00249066 0.0249066  0.         0.05479452\n",
            " 0.00498132 0.         0.00747198 0.0124533  0.         0.\n",
            " 0.         0.         0.         0.         0.00498132 0.01494396\n",
            " 0.01992528 0.         0.94271482 0.00996264 0.0373599  0.\n",
            " 0.         0.         0.00498132 0.         0.         0.\n",
            " 0.         0.03486924 0.94146949 0.         0.94894147 0.94894147\n",
            " 0.93524284 0.00249066 0.95890411 0.         0.00249066 0.00249066\n",
            " 0.0124533  0.01992528 0.         0.         0.00249066 0.00249066\n",
            " 0.         0.0124533  0.00747198 0.         0.00498132 0.02988792\n",
            " 0.03486924 0.         0.03237858 0.         0.00249066 0.\n",
            " 0.         0.00249066 0.00249066 0.         0.         0.\n",
            " 0.         0.00249066 0.         0.         0.01743462 0.\n",
            " 0.93648817 0.00249066 0.00747198 0.94022416 0.         0.\n",
            " 0.         0.         0.         0.         0.         0.\n",
            " 0.00498132 0.         0.00249066 0.         0.         0.\n",
            " 0.00498132 0.94146949 0.         0.93524284 0.         0.\n",
            " 0.         0.00747198 0.00498132 0.0249066  0.00747198 0.00249066\n",
            " 0.00249066 0.00249066 0.00249066 0.         0.         0.00249066\n",
            " 0.00498132 0.         0.         0.         0.         0.00249066\n",
            " 0.00249066 0.         0.         0.00249066 0.00996264 0.00249066\n",
            " 0.00249066 0.         0.         0.         0.         0.00249066\n",
            " 0.00249066 0.00249066 0.         0.03237858 0.01743462 0.\n",
            " 0.         0.         0.01743462 0.00996264 0.         0.00498132\n",
            " 0.00249066 0.         0.         0.         0.         0.\n",
            " 0.02739726 0.00498132 0.         0.00249066]\n",
            "[[1. 0. 0. 0. 0. 0. 0. 0. 0. 0. 0. 0. 0. 0. 0. 0. 0. 0. 0. 0. 0. 0. 0. 0.]]\n"
          ]
        },
        {
          "data": {
            "text/html": [
              "<div>\n",
              "<style scoped>\n",
              "    .dataframe tbody tr th:only-of-type {\n",
              "        vertical-align: middle;\n",
              "    }\n",
              "\n",
              "    .dataframe tbody tr th {\n",
              "        vertical-align: top;\n",
              "    }\n",
              "\n",
              "    .dataframe thead th {\n",
              "        text-align: right;\n",
              "    }\n",
              "</style>\n",
              "<table border=\"1\" class=\"dataframe\">\n",
              "  <thead>\n",
              "    <tr style=\"text-align: right;\">\n",
              "      <th></th>\n",
              "      <th>Score</th>\n",
              "      <th>Region Name</th>\n",
              "      <th>Country Name</th>\n",
              "    </tr>\n",
              "  </thead>\n",
              "  <tbody>\n",
              "    <tr>\n",
              "      <th>0</th>\n",
              "      <td>100.0</td>\n",
              "      <td>Wien</td>\n",
              "      <td>Austria</td>\n",
              "    </tr>\n",
              "    <tr>\n",
              "      <th>1</th>\n",
              "      <td>100.0</td>\n",
              "      <td>Zuid-Holland</td>\n",
              "      <td>Netherlands</td>\n",
              "    </tr>\n",
              "    <tr>\n",
              "      <th>2</th>\n",
              "      <td>100.0</td>\n",
              "      <td>Malta</td>\n",
              "      <td>Malta</td>\n",
              "    </tr>\n",
              "    <tr>\n",
              "      <th>3</th>\n",
              "      <td>100.0</td>\n",
              "      <td>Groningen</td>\n",
              "      <td>Netherlands</td>\n",
              "    </tr>\n",
              "    <tr>\n",
              "      <th>4</th>\n",
              "      <td>100.0</td>\n",
              "      <td>Overijssel</td>\n",
              "      <td>Netherlands</td>\n",
              "    </tr>\n",
              "    <tr>\n",
              "      <th>...</th>\n",
              "      <td>...</td>\n",
              "      <td>...</td>\n",
              "      <td>...</td>\n",
              "    </tr>\n",
              "    <tr>\n",
              "      <th>274</th>\n",
              "      <td>0.0</td>\n",
              "      <td>West Wales and The Valleys</td>\n",
              "      <td>United Kingdom</td>\n",
              "    </tr>\n",
              "    <tr>\n",
              "      <th>275</th>\n",
              "      <td>0.0</td>\n",
              "      <td>East Wales</td>\n",
              "      <td>United Kingdom</td>\n",
              "    </tr>\n",
              "    <tr>\n",
              "      <th>276</th>\n",
              "      <td>0.0</td>\n",
              "      <td>North Eastern Scotland</td>\n",
              "      <td>United Kingdom</td>\n",
              "    </tr>\n",
              "    <tr>\n",
              "      <th>277</th>\n",
              "      <td>0.0</td>\n",
              "      <td>Highlands and Islands</td>\n",
              "      <td>United Kingdom</td>\n",
              "    </tr>\n",
              "    <tr>\n",
              "      <th>278</th>\n",
              "      <td>0.0</td>\n",
              "      <td>Southern Scotland</td>\n",
              "      <td>United Kingdom</td>\n",
              "    </tr>\n",
              "  </tbody>\n",
              "</table>\n",
              "<p>279 rows × 3 columns</p>\n",
              "</div>"
            ],
            "text/plain": [
              "     Score                 Region Name    Country Name\n",
              "0    100.0                        Wien         Austria\n",
              "1    100.0                Zuid-Holland     Netherlands\n",
              "2    100.0                       Malta           Malta\n",
              "3    100.0                   Groningen     Netherlands\n",
              "4    100.0                  Overijssel     Netherlands\n",
              "..     ...                         ...             ...\n",
              "274    0.0  West Wales and The Valleys  United Kingdom\n",
              "275    0.0                  East Wales  United Kingdom\n",
              "276    0.0      North Eastern Scotland  United Kingdom\n",
              "277    0.0       Highlands and Islands  United Kingdom\n",
              "278    0.0           Southern Scotland  United Kingdom\n",
              "\n",
              "[279 rows x 3 columns]"
            ]
          },
          "execution_count": 88,
          "metadata": {},
          "output_type": "execute_result"
        }
      ],
      "source": [
        "#Test Scenario 6\n",
        "selection = [1,0,0,0,0,0,0,0,0,0,0,0,0,0]\n",
        "weights = [1,0,0,0,0,0,0,0]\n",
        "recommendation(selection,weights)"
      ]
    },
    {
      "cell_type": "markdown",
      "metadata": {
        "id": "yCJQDkagXavS"
      },
      "source": [
        "## STEP 4: Map Representation"
      ]
    },
    {
      "cell_type": "code",
      "execution_count": null,
      "metadata": {
        "scrolled": false,
        "id": "Z-q6cxRxXavS",
        "outputId": "8cfa92f0-6294-40c0-db82-d7e135302f3b"
      },
      "outputs": [
        {
          "ename": "NameError",
          "evalue": "name 'score' is not defined",
          "output_type": "error",
          "traceback": [
            "\u001b[0;31m---------------------------------------------------------------------------\u001b[0m",
            "\u001b[0;31mNameError\u001b[0m                                 Traceback (most recent call last)",
            "\u001b[0;32m<ipython-input-58-9e12fe38abb3>\u001b[0m in \u001b[0;36m<module>\u001b[0;34m\u001b[0m\n\u001b[0;32m----> 1\u001b[0;31m \u001b[0mvals\u001b[0m \u001b[0;34m=\u001b[0m \u001b[0mnp\u001b[0m\u001b[0;34m.\u001b[0m\u001b[0marray\u001b[0m\u001b[0;34m(\u001b[0m\u001b[0mscore\u001b[0m\u001b[0;34m)\u001b[0m \u001b[0;31m# Recommendation results\u001b[0m\u001b[0;34m\u001b[0m\u001b[0;34m\u001b[0m\u001b[0m\n\u001b[0m\u001b[1;32m      2\u001b[0m \u001b[0mprint\u001b[0m\u001b[0;34m(\u001b[0m\u001b[0mlen\u001b[0m\u001b[0;34m(\u001b[0m\u001b[0mnuts2\u001b[0m\u001b[0;34m)\u001b[0m\u001b[0;34m)\u001b[0m \u001b[0;31m#There are 334 regions in total at the NUTS2 Level in Europe\u001b[0m\u001b[0;34m\u001b[0m\u001b[0;34m\u001b[0m\u001b[0m\n",
            "\u001b[0;31mNameError\u001b[0m: name 'score' is not defined"
          ]
        }
      ],
      "source": [
        "# vals = np.array(score) # Recommendation results\n",
        "# print(len(nuts2)) #There are 334 regions in total at the NUTS2 Level in Europe"
      ]
    },
    {
      "cell_type": "code",
      "execution_count": null,
      "metadata": {
        "id": "9jgQqRfyXavS"
      },
      "outputs": [],
      "source": [
        "#Debugging\n",
        "# for r in nuts2[\"Region\"]:\n",
        "#     if r not in list(score[\"Region\"]):\n",
        "#         new_region = {\"Score\":0, \"Region\":r}\n",
        "#         score = score.append(new_region, ignore_index=True)\n",
        "        \n",
        "# print(len(score), len(nuts2)) #There should be the same number of regions in both the \"score\" and \"nuts2\" tables (335)   \n",
        "\n",
        "# for i in range(len(score)):\n",
        "#     if score[\"Region\"].iloc[i] not in list(nuts2[\"id\"]):\n",
        "#         print(score[\"Region\"].iloc[i]) #region \"HR04\" does not appear in \"nuts2\" dataset, therefore we will not use it in the graphi8cal representation"
      ]
    },
    {
      "cell_type": "code",
      "execution_count": null,
      "metadata": {
        "id": "BxenUUcxXavT"
      },
      "outputs": [],
      "source": [
        "# fig, ax = plt.subplots(figsize = (12,8))\n",
        "# score_nohr04 = score[score[\"Region\"] != \"HR04\"]\n",
        "# vals = np.array(score_nohr04[\"Score\"])\n",
        "# nuts2['vals'] = list(vals) # Add column of random values\n",
        "# nuts2.plot(\"vals\", ax = ax, cmap = \"Greens\", legend = True).set_axis_off()"
      ]
    },
    {
      "cell_type": "markdown",
      "metadata": {
        "id": "m277hi4sXavT"
      },
      "source": [
        "#### Crop/Zoom in the map"
      ]
    },
    {
      "cell_type": "code",
      "execution_count": null,
      "metadata": {
        "id": "G-A099L4XavT"
      },
      "outputs": [],
      "source": [
        "# #Clipping the European map\n",
        "# bounds = nuts2[\"geometry\"].total_bounds\n",
        "# print(bounds[\"minx\"].min(), bounds[\"miny\"].min(), bounds[\"maxx\"].max(), bounds[\"maxy\"].max())\n",
        "# bounds\n",
        "\n",
        "# # polygon = Polygon(bounds)\n",
        "\n",
        "# # df2 = gpd.GeoDataFrame(gpd.GeoSeries(polygon), columns=['geometry'])\n",
        "\n",
        "# # intersection = gpd.overlay(df2, nuts2, how='intersection')\n",
        "\n",
        "# # plt.ion()\n",
        "# # intersection.plot()\n",
        "\n",
        "# # bounds = nuts.total_bounds # bounds of the entire map\n",
        "# # from shapely.geometry import box\n",
        "# # country_box = box(*bounds)\n",
        "# # country_box\n",
        "# # # buffered_box = country_box.buffer(1.4)\n",
        "# # # buffered_box"
      ]
    }
  ],
  "metadata": {
    "kernelspec": {
      "display_name": "Python 3",
      "language": "python",
      "name": "python3"
    },
    "language_info": {
      "codemirror_mode": {
        "name": "ipython",
        "version": 3
      },
      "file_extension": ".py",
      "mimetype": "text/x-python",
      "name": "python",
      "nbconvert_exporter": "python",
      "pygments_lexer": "ipython3",
      "version": "3.8.5"
    },
    "colab": {
      "name": "Clean TFG.ipynb",
      "provenance": [],
      "include_colab_link": true
    }
  },
  "nbformat": 4,
  "nbformat_minor": 0
}